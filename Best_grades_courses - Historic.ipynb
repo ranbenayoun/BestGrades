{
 "cells": [
  {
   "cell_type": "markdown",
   "id": "64f1fa09",
   "metadata": {},
   "source": [
    "<h1> Best Grades </h1>"
   ]
  },
  {
   "cell_type": "markdown",
   "id": "a521d461",
   "metadata": {},
   "source": [
    "I first wrote this code, which takes the data from a git branch calles \"master\""
   ]
  },
  {
   "cell_type": "code",
   "execution_count": 114,
   "id": "064f0ea6",
   "metadata": {},
   "outputs": [
    {
     "name": "stdout",
     "output_type": "stream",
     "text": [
      "Enter the course number: 276413\n",
      "Error fetching data: 404 Client Error: Not Found for url: https://api.github.com/repos/michael-maltsev/technion-histograms/contents/276413\n"
     ]
    }
   ],
   "source": [
    "\"\"\"import requests\n",
    "\n",
    "def get_course_statistics(course_number):\n",
    "    # Construct the GitHub API URL for the course directory\n",
    "    api_url = f\"https://api.github.com/repos/michael-maltsev/technion-histograms/contents/{course_number}\"\n",
    "    \n",
    "    try:\n",
    "        # Fetch list of contents in the course directory\n",
    "        response = requests.get(api_url)\n",
    "        response.raise_for_status()  # Raise an exception for bad response status\n",
    "        contents = response.json()\n",
    "\n",
    "        statistics = {}\n",
    "\n",
    "        # Loop through each content in the directory\n",
    "        for item in contents:\n",
    "            if item['type'] == 'dir':\n",
    "                folder_name = item['name']\n",
    "                finals_json_url = f\"https://raw.githubusercontent.com/michael-maltsev/technion-histograms/master/{course_number}/{folder_name}/Finals.json\"\n",
    "\n",
    "                # Check if Finals.json exists in the folder\n",
    "                finals_response = requests.head(finals_json_url)\n",
    "                if finals_response.status_code == 200:\n",
    "                    finals_data = requests.get(finals_json_url).json()\n",
    "                    statistics[folder_name] = {\n",
    "                        'average': finals_data.get('average'),\n",
    "                        'median': finals_data.get('median')\n",
    "                    }\n",
    "\n",
    "        return statistics\n",
    "    except requests.exceptions.RequestException as e:\n",
    "        print(f\"Error fetching data: {e}\")\n",
    "        return None\n",
    "\n",
    "# Example usage:\n",
    "course_number = input(\"Enter the course number: \")\n",
    "course_statistics = get_course_statistics(course_number)\n",
    "if course_statistics:\n",
    "    for folder, stats in course_statistics.items():\n",
    "        print(f\"Folder: {folder}, Average: {stats['average']}, Median: {stats['median']}\")\"\"\""
   ]
  },
  {
   "cell_type": "markdown",
   "id": "28e552d1",
   "metadata": {},
   "source": [
    "As it turned out to be outdated, I changed the branch to \"main\" (https://github.com/michael-maltsev/technion-histograms/tree/main)\n",
    "- and this is to a single course"
   ]
  },
  {
   "cell_type": "code",
   "execution_count": 115,
   "id": "1f7e660c",
   "metadata": {},
   "outputs": [
    {
     "name": "stdout",
     "output_type": "stream",
     "text": [
      "Enter the course number: 276413\n",
      "Error fetching data: 404 Client Error: Not Found for url: https://api.github.com/repos/michael-maltsev/technion-histograms/contents/276413\n"
     ]
    }
   ],
   "source": [
    "\"\"\"import requests\n",
    "\n",
    "def get_course_statistics(course_number):\n",
    "    # Construct the GitHub API URL for the course directory\n",
    "    api_url = f\"https://api.github.com/repos/michael-maltsev/technion-histograms/contents/{course_number}\"\n",
    "    \n",
    "    try:\n",
    "        # Fetch list of contents in the course directory\n",
    "        response = requests.get(api_url)\n",
    "        response.raise_for_status()  # Raise an exception for bad response status\n",
    "        contents = response.json()\n",
    "\n",
    "        statistics = {}\n",
    "\n",
    "        # Loop through each content in the directory\n",
    "        for item in contents:\n",
    "            if item['type'] == 'dir':\n",
    "                folder_name = item['name']\n",
    "                finals_json_url = f\"https://raw.githubusercontent.com/michael-maltsev/technion-histograms/main/{course_number}/{folder_name}/Finals.json\"\n",
    "\n",
    "                # Check if Finals.json exists in the folder\n",
    "                finals_response = requests.head(finals_json_url)\n",
    "                if finals_response.status_code == 200:\n",
    "                    finals_data = requests.get(finals_json_url).json()\n",
    "                    statistics[folder_name] = {\n",
    "                        'average': finals_data.get('average'),\n",
    "                        'median': finals_data.get('median')\n",
    "                    }\n",
    "\n",
    "        return statistics\n",
    "    except requests.exceptions.RequestException as e:\n",
    "        print(f\"Error fetching data: {e}\")\n",
    "        return None\n",
    "\n",
    "# Example usage:\n",
    "course_number = input(\"Enter the course number: \")\n",
    "course_statistics = get_course_statistics(course_number)\n",
    "if course_statistics:\n",
    "    for folder, stats in course_statistics.items():\n",
    "        print(f\"Folder: {folder}, Average: {stats['average']}, Median: {stats['median']}\")\n",
    "\"\"\""
   ]
  },
  {
   "cell_type": "markdown",
   "id": "422b5c6a",
   "metadata": {},
   "source": [
    "<h2>Setting up the courses of interest</h2>"
   ]
  },
  {
   "cell_type": "markdown",
   "id": "19b93dee",
   "metadata": {},
   "source": [
    "getting the course list from the catalog. the courses are split into core from which you must complete at least 2, and the rest of the courses."
   ]
  },
  {
   "cell_type": "code",
   "execution_count": 1,
   "id": "f017bc9a",
   "metadata": {},
   "outputs": [],
   "source": [
    "import re\n",
    "\n",
    "def find_6_digit_sequences(input_string):\n",
    "    # Define the regex pattern to match 6-digit sequences\n",
    "    pattern = r'\\b\\d{6}\\b'\n",
    "    \n",
    "    # Find all matches using findall() method\n",
    "    sequences = re.findall(pattern, input_string)\n",
    "    \n",
    "    return sequences"
   ]
  },
  {
   "cell_type": "code",
   "execution_count": 53,
   "id": "90b9c217",
   "metadata": {},
   "outputs": [],
   "source": [
    "sig_core = [\"336020\",\"336023\",\"336027\",\"336208\",\"336326\",\"336502\",\"336522\",\"336533\"]\n",
    "sig_rest =[\"336325\",\"336504\",\"336521\",\"336536\",\"336538\",\"336540\",\"336544\",\"336545\",\"336546\",\"336547\",\"336549\",\"336550\",\"034033\",\"044101\",\"044198\",\"044202\",\"046195\",\"046197\",\"046200\",\"046201\",\"046211\",\"046332\",\"046745\",\"046746\",\"236523\",\"236781\"]\n",
    "Mechanica = \"336326 336506 336517 336522 336539 336541 336021 336520 336521 336540 336549 336550 034033 035001 035199 036049  036076  084225\"\n",
    "tissue = \"336021 ננ - לויבב םיקיקלח ' יגולואירו הקינכמ 2 1 - 2.5 336402 ןכת ויב - םירמוח 2 1 - 2.5 336517 ויב - אתה לש הסדנה 2 1 - 2.5 336528 תופורת לש רקובמ רורחש 2 1 - 2.5 336529 םייגולויב םיפילחתו תומקר תסדנה 2 1 - 2.5 336326 םירטמרפ ךורעשו םינותנ חותינ 2 1 - 2.5 336404 םיינורטקלאויב םיקשממ 2 1 - 2.5 336405 כטויבבו היגולויבב םייסדנה תודוסי 'נ 2 1 - 2.5 336520 המקר יפילחתו םיידפוטרוא םילתש 2 1 - 2.5 336521 וידרקה 'עמ לש םייסדנה תונורקע 3 1 - 3.5 336538 ויב תונורקע - תולוקלומ תשיחל םייסדנה 2 1 - 2.5 336544 םייטנג םילגעמ 2 1 - 2.5 336548 ןכתל הדבעמ םייטנג םילגעמ - - 4 2.0 336549 ףוציר תוקינכט DNA 2 2 - 3.0 336550 תיבושיח הקיזיפויב 2 1 - 2.5 054413 היגולונכטויבב םהימושיו םירמילופ 2 1 - 2.5 134020 תיללכ הקיטנג 3 1 - 3.5 134069 תוחתפתהה לש היגולויב 2 1 - 2.5 134082 תירלוקלומ היגולויב 2 1 - 2.5 134119 יטנגה יוטיבה תרקב 2 1 - 2.5 134121 היגולוריוו היגולויבורקימ 3 - - 3.0 276413\"\n",
    "hova_2023 = \"044102 למשח תודבעמב תוחיטב 4 - - 0.0 104065 הרבגלא 1מ2 4 2 - 5.0 104042 ודח 1מ2 4 2 - 5.0 114071 הקיזיפ 1 'מ 3 1 - 3.5 125001  הימיכ תיללכ 2 2 - 3.0 134058 104013 אודח 2ת 4 3 - 5.5 104038 הרבגלא 2מ 2 1 - 2.5 104136 רדמ  3 2 - 4.0 114052 הקיזיפ 2 3 1 - 3.5 124801 תינגרוא הימיכ 1 ב 2 1 - 2.5 234128 044105 םיילמשחה םילגעמה תרות 3 2 - 4.0 104214 הירופ ירוט 2 1 - 2.5 104215 תובכורמ תויצקנופ 2 1 - 2.5 104220 דמ 2 1 - 2.5 124503 תילקיזיפ הימיכ 1ב 2 1 - 2.5 134019 היגולומיזנאו הימיכויבל אובמ 2 1 - 2.5 334274 044131 תוכרעמו תותוא 4 2 - 5.0 104034 ח תורבתסהל אובמ 3 3 - 3.5 334221 לש תודוסי םירמוח םייאופר 2 1 - 2.5 334222 םיקצומ תקינכמ ויב הסדנהל - תיאופר 3 2 - 4.0 336537 134113 םיילובטמ םילולסמ 3 1 - 3.5 276011 םיסדנהמל ףוגה תוכרעמ לש היגולויזיפ 3 1 - 3.5 334009 םייגולויב םימרוז תקינכמ 3 2 - 4.0 334011 ויב ןכת תודוסי - ילמשח 3 2 - 4.0 335010 יסיסב ינכמויב ןכת 2 2 - 3.0 336022 334023 הקיטסיטטסל אובמ 3 1 - 3.5 335001 334014 ויב הסדנהב טקיורפ - תיאופר 1 - - 9 4.0 335002 335015 ויב הסדנהב טקיורפ - תיאופר 2 - - 9 3.0 335003\"\n",
    "hova_2022 = \"104016 104042 114071 125001 כימיה כללית 2 2 - 3.0 134058 ביולוגיה 1 3 - - 3.0 זה מומלץ להרשם ל קורס334021 ) 1.0 נקכבחירה חופשית . מק רס 104042 ח2 יוכר גם 104018 א 1מ.סמ 104013 4 3 - 5. 104038 אלג2 1 - 2.5 104136מ3 2 - 4.0 114052 פיזיקה 2 3 1 - 3.5 124801 כימיה אורג1 - 2.5 234128 מבוא למחשב שפת פייתון 2 2 2 4.0 044105 תורת המעגלים החשמליים 3 2 - 4.0 104214 טורי פוריה 2 1 - 2.5 104215 פונקציות מרוכבות2 1 - 2.5 104220 מ 2 1 - 2.5 124503 כימיה פיזיקלית 2 1 - 2.5 134019 מבוא לביוכימיה ואנזימולוגיה 2 1 - 2.5 324033 אנגלית טכנית מתקדמים  3 - - 3.0 334274 מבוא לאנטומיה של האדם 2 - - 2.0 044131 אותות ומערכות 4 2 - 5.0 104034 מבוא להסתברות 3 3 - 3.5 334221 יסודות של חומרים רפואיים 2 1 - 2.5 334222 מכניקת מוצקים להנדסה ביו -רפואית 3 2 - 4.0 336537 ביופיזיקה ונוירופיזיולוגיה למהנדסים 2 2 - 3.0 134113 מסלולים מטבוליים 3 1 - 3.5 276011 פיזיולוגיה של מערכות הגוף למהנדסים 3 1 - 3.5 334009 מכניקת זורמים ביולוגיים 3 2 - 4.0 334011 יסודות תכן ביו - חשמלי 3 2 - 4.0 335010 תכן ביומכני בסיסי 2 2 - 3.0 336022 מתא לרקמה 2 1 - 2.5 334023 מבוא לסטטיסטיקה 3 1 - 3.5 335001 מעבדה בהנדסה ביו - רפואית 1 - - 4 2.0 334014 פרויקט בהנדסה ביו -רפואית 1 - - 9 4.0 335002 מעבדה בהנדסה ביו - רפואית 2 - - 4 2.0 335015 פרויקט בהנדסה ביו -רפואית 2 - - 9 3.0 335003\"\n",
    "hova_2021 = \"104016 104018 114071 125001 134058 104013 104135 114052 124801 234128 044105 104221 104223 134019 334274 044131 104034 336537 334221 335009 334222 134113 276011 334011 336022 336533 334023 335001 335010 334014 335002 335015 335003\"\n",
    "hova_2019 = \"044102 בטיחות במעבדות חשמל 4 - - 0.0 104016 אלגברה 1 מ 4 2 - 5.0 104018 חדוא 1מ 4 2 - 5.0 114071 פיזיקה 1מ 3 1 - 3.5 125001 כימיה כללית 2 2 - 3.0 134058 ביולוגיה 1 3 - - 3.0 394800 חינוך גופני - 2 - 1.0 20.5 * חובה להרשם למקצוע זה. ההרצאות ינתנו במהלך הסמסטר, בהתאם להנחיות שיפורסמו בנפרד. בסמסטר זה מומלץ לקחת קורס מגמות 334021 )1.0 נק( כבחירה חופשית. סמסטר 2 ה ת מ נק 104013 חדוא 2ת 4 3 - 5.5 104135 מדר ת 2 1 - 2.5 114052 פיזיקה 2 3 1 - 3.5 124801* כימיה אורגנית 1 ב 2 1 - 2.5 234128 מבוא למחשב שפת פייתון 2 2 2 4.0 324033 אנגלית טכנית מתקדמים ב 3 - - 3.0 21.0 סמסטר 3 ה ת מ נק 044105 תורת המעגלים החשמליים 3 2 - 4.0 104221 פונקציות מרוכבות והתמרות אינטגרל 3 2 - 4.0 104223 מדח וטורי פורייה 3 2 - 4.0 124503 כימיה פיזיקלית 1 ב 2 1 - 2.5 134019 מבוא לביוכימיה ואנזימולוגיה 2 1 - 2.5 274001 מבוא לאנטומיה מיקרו ומאקרו 2 - - 2.0 394800 חינוך גופני - 2 - 1.0 20.0 סמסטר 4 ה ת מ נק 044131 אותות ומערכות 4 2 - 5.0 104034 מבוא להסתברות ח 3 3 - 3.5 336537 ביופיזיקה ונוירופיזיולוגיה למהנדסים 2 2 - 3.0 334221 יסודות של חומרים רפואיים 2 1 - 2.5 335009 מכניקת זורמים ביולוגיים 2 2 - 3.0 334222 יסודות הביומכניקה 3 2 - 4.0 21.0 בסמסטר זה מומלץ ללמוד את הקורס מפגשים עם התעשיה 334331 )1.0 נק( במסגרת בחירה פקולטית. סמסטר 5 ה ת מ נק 134113 מסלולים מטבוליים 3 1 - 3.5 פיזיולוגיה של מערכות הגוף 3 1 - 3.5 למהנדסים 276011 334022 יסודות תכן ביו-חשמלי 3 1 - 3.5 336022 מתא לרקמה 2 1 - 2.5 336533 יסודות אופטיקה ופוטוניקה 2 2 - 3.0 337403 תופעות מעבר במערכות פיזיולוגיות 2 2 - 3.0 19.0 סמסטר 6 ה ת מ נק 335001 מעבדה בהנדסה ביו-רפואית 1 - - 4 2.0 335010 תכן ביומכני בסיסי 2 2 - 3.0 335016 פרויקט קליני-הנדסי 1 - 2 1.5 קורסי בחירה פקולטיים 6.5 בסמסטר זה מומלץ ללמוד את הקורס 094423 מבוא לסטטיסטיקה )3.5 נק( הנחוץ בבחירה הפקולטית. סמסטר 7 ה ת מ נק 334014 פרויקט בהנדסה ביו-רפואית 1 - - 9 4.0 335002 מעבדה בהנדסה ביו-רפואית 2 - - 4 2.0 קורסי בחירה פקולטיים 6.0 סמסטר 8 ה ת מ נק 335003 מעבדה בהנדסה ביו-רפואית 3 - - 4 2.0 335015 פרויקט בהנדסה ביו-רפוא\"\n",
    "hove_2018 = \"סמסטר 1 ה ת מ נק 044102 * בטיחות במעבדות חשמל 4 - - 0.0 104016 אלגברה 1 מ 4 2 - 5.0 104018 חדוא 1מ 4 2 - 5.0 114071 פיזיקה 1מ 3 1 - 3.5 125001 כימיה כללית 2 2 - 3.0 134058 ביולוגיה 1 3 - - 3.0 394800 חינוך גופני - 2 - 1.0 20.5 * חובה להרשם למקצוע זה. ההרצאות ינתנו במהלך הסמסטר, בהתאם להנחיות שיפורסמו בנפרד. בסמסטר זה מומלץ לקחת קורס מגמות 334021 )1.0 נק( כבחירה חופשית. סמסטר 2 ה ת מ נק 104013 חדוא 2ת 4 3 - 5.5 104135 מדר ת 2 1 - 2.5 114052 פיזיקה 2 3 1 - 3.5 124801* כימיה אורגנית 1 ב 2 1 - 2.5 234112 מבוא למחשב שפת C 2 2 2 4.0 324033 אנגלית טכנית מתקדמים ב 3 - - 3.0 21.0 *ניתן ללמוד 125801 כימיה אורגנית )5.0 נק( הנחוץ כקדם בחלק מקורסי ביולוגיה המופיעים כבחירה פקולטית במגמת הנדסת רקמות וביו-חומרים. הנקודות העודפות יחשבו כבחירה חופשית. סמסטר 3 ה ת מ נק 044105 תורת המעגלים החשמליים 3 2 - 4.0 104221 פונקציות מרוכבות והתמרות אינטגרל 3 2 - 4.0 104223 מדח וטורי פורייה 3 2 - 4.0 124503 כימיה פיזיקלית 1 ב 2 1 - 2.5 134019 מבוא לביוכימיה ואנזימולוגיה 2 1 - 2.5 274001 מבוא לאנטומיה מיקרו ומאקרו 2 - - 2.0 394800 חינוך גופני - 2 - 1.0 20.0 סמסטר 4 ה ת מ נק 044131 אותות ומערכות 4 2 - 5.0 104034 מבוא להסתברות ח 3 3 - 3.5 336537 ביופיזיקה ונוירופיזיולוגיה למהנדסים 2 2 - 3.0 334221 יסודות של חומרים רפואיים 2 1 - 2.5 335009 מכניקת זורמים ביולוגיים 2 2 - 3.0 334222 יסודות הביומכניקה 3 2 - 4.0 21.0 בסמסטר זה מומלץ ללמוד את הקורס מפגשים עם התעשיה 334331 )1.0 נק( במסגרת בחירה פקולטית. סמסטר 5 ה ת מ נק 134113 מסלולים מטבוליים 3 1 - 3.5 פיזיולוגיה של מערכות הגוף 3 1 - 3.5 למהנדסים 276011 334022 יסודות תכן ביו-חשמלי 3 1 - 3.5 336022 מתא לרקמה 2 1 - 2.5 336533 יסודות אופטיקה ופוטוניקה 2 2 - 3.0 337403 תופעות מעבר במערכות פיזיולוגיות 2 2 - 3.0 19.0 סמסטר 6 ה ת מ נק 335001 מעבדה בהנדסה ביו-רפואית 1 - - 4 2.0 335010 תכן ביומכני בסיסי 2 2 - 3.0 335016 פרויקט קליני-הנדסי 1 - 2 1.5 קורסי בחירה פקולטיים 6.5 בסמסטר זה מומלץ ללמוד את הקורס 094423 מבוא לסטטיסטיקה )3.5 נק( הנחוץ בבחירה הפקולטית. סמסטר 7 ה ת מ נק 334014 פרויקט בהנדסה ביו-רפואית 1 - - 9 4.0 335002 מעבדה בהנדסה ביו-רפואית 2 - - 4 2.0 קורסי בחירה פקולטיים 6.0 סמסטר 8 ה ת מ נק 335003 מעבדה בהנדסה ביו-רפואית 3 - - 4 2.0 335015 פ\"\n",
    "refua2021 = \"2 למשח תודבעמב תוחיטב 4 - - 0.0 104016 הרבגלא 1מ 4 2 - 5.0 104018 אודח 1 מ 4 2 - 5.0 114071 הקיזיפ 1 מ 3 1 - 3.5 124120 הימיכה תודוסי 4 2 - - 5.0 274109 104013 אח 2  4 3 - 5.5 104135 114052 הקיזיפ 2 3 1 - 3.5 234128 ןותייפ תפש בשחמל אובמ 2 2 2 4.0 125802 תינגרוא הימ4 2 - - 5.0 274167 044105 םיילמשחה םילגעמה תרות 3 2 - 4.0 104221 104223 היירופ ירוטו.0 124503 תילקיזיפ הימיכ 1 - 2.5 324033 תינכט תילגנא- - 3.0 274241 *תיללכ הימיכויב 4 1 - - 4.5 274258 044131 תוכרעמו תותוא 4 2 - 5.0 104034 334221 334222 335009 תקינכמ םייגולויב םימרוז 2 2 - 3.0 274165 *תיללכ הקיטנג 3 1 - 3 3.5 274253  334011 ויב ןכת תודוסי - ילמשח 3 2 - 4.0 336022 המקרל אתמ 2 1 - 2.5 337403 תויגולויזפ תוכרעמב רבעמ תועפות 2 2 - 3.0 274142 ינילק ישילש – ( אפור תויהל 1) - - 6 - 2.0 274242 םדאה לש הקיטנג 2 - - - 2.0 274243 274259 5.0 274260  334023 הקיטסיטטסל אובמ 3 1 - 3.5 335001 הדבעמ ויב הסדנהב - תיאופר 1 - - 4 2.0 335010 יסיסב ינכמויב ןכת 2 2 - 3.0 274143 ינילק ישילש – תויהל ( אפור 2) - - 6 - 2.0 274237 תינילק הימיכויבב הדבעמ - 1 2 4 1.0 274262 היגולוירבמא 3 1 - 3 3.5 274263 5.0 276310  014 ויב הסדנהב טקיורפ - תיאופר 1 - - 9 4.0 335003 ויב הסדנהב הדבעמ - תיאופר 3 - - 6 2.0 336533 הקינוטופו הקיטפוא תודוסי 2 2 - 3.0 274255 ק ישילש יניל – ( אפור תויהל 3) - - 6 - 2.0 274323 היגולויזיפ 1 4 1 1 4 4.5 274348  335015 רפ ויב הסדנהב טקיו - תיאופר 2 - - 9 3.0  274246 ןטרסל ירלוקלומה סיסבה 2 - - - 2.0 274256 ינילק ישילש – ( אפור תויהל 4) - - 6 - 2.0 274261 274247 היגולוריו 2.5 - - - 2.5 274252 םיטוירקואא םינגותפ 2 - - - 2.0היגול 274328 274336 תיתכרעמ היגולויזיפוריונ 3 - - 1 3.0 274361 הימוטנאוריונ 2 - 2 - 2.5 274370 ינילק ישילש – ( אפור תויהל 5) - - 6 - 2.0 274372 74251 היצולובא 2 - - - 2.0 274318 היגולוימדיפא 2 - - 2 2.0 274320 טפשמו הקיתא 2 - - 2 2.0 274352 תינילק הנוזת 2 - - 3 2.0 274367 תיסיסב היגולוקמרפ 3 2 - 1 4.0 274368 תיללכ היגולותפ 4 - 3 6 5.0 274369 היגולוטמה 3 - - 6 3.0 274371\"\n",
    "biofood_hova_2023 = \"104003 104019 124120 064522 134058 104004 324033 125801 125101 134019 114051 104131 234128 124510 064523 064212 134113 104228 2 2 4 3.0064322 064325 064115 064419 064413 114052 064117 064507 064106 064420 064324 064326 64118 064250 094481 064615  064239 םמ 1 - 5 4 2.5 064509 \"\n",
    "refua2019 = \"סמסטר 1 הנדסה ביו-רפואית 044102 * בטיחות במעבדות חשמל* 4 - - 0.0 104016 אלגברה 1מ 4 2 - 5.0 104018 חד 1מ 4 2 - 5.0 114071 פיזיקה 1 מ 3 1 - 3.5 124120 יסודות הכימיה 4 2 - - 5.0 394800 חינוך גופני - 2 - 1.0 ברפואה 274109 מבוא לרפואה דחופה** 1 - 3 - 2.0 21.5 *חובה להרשם למקצוע זה. ההרצאות ינתנו במהלך הסמסטר בהתאם להנחיות שיפורסמו בנפרד. ** קורס זה ינתן כהוראה מרוכזת בקיץ במידה שלא ניתן יהיה לשלבו במערכת סמסטר 2 ה ת מ עב נק בהנדסה ביו-רפואית 104013 חדו 2ת 4 3 - 5.5 104135 מדר ת 2 1 - 2.5 114052 פיזיקה 2 3 1 - 3.5 234128 מבוא למחשב שפת פייתון 2 2 2 4.0 ברפואה 125802 כימיה אורגנית רמ* 4 2 - - 5.0 274167 ביולוגיה של התא 3 1 - 3 3.5 24.0 *למשלימי התכנית לתואר כפול בלבד, יוכר גם הקורס כימיה אורגנית 125801 5.0 נק סמסטר 3 ה ת מ ע בהנדסה ביו-רפואית 044105 תורת המעגלים החשמליים 3 2 - 4.0 פונקציות מרוכבות והתמרות 3 2 - 4.0 אינטג 104221 104223 מדח וטורי פורייה 3 2 - 4.0 124503 כימיה פיזיקלית 1ב 2 1 - 2.5 324033 אנגלית טכנית מתקדמים ב 4 - - 3.0 394800 חינוך גופני - 2 - 1.0 ברפואה 274241 ביוכימיה כללית* 4 1 - - 4.5 274258 מבוא לפסיכולוגיה רפואית 2 - - 2 2.0 25.0 *למשלימי התכנית לתואר כפול בלבד, יוכר גם הקורס מבוא לביוכימיה ואנזימולוגיה 134019 2.5 נק סמסטר 4 ה ת מבהנדסה ביו-רפואית 044131 אותות ומערכות 4 2 - 5.0 104034 מבוא להסתברו3 3 - 3.5 335009 מכניקת זורמים ביולוגיים 2 2 - 3.0 334221 יסודות של חומרים רפואיים 2 1 - 2.5 334222 יסודות הביומכניקה 3 2 - 4.0 ברפואה 274165 גנטיקה כללית* 3 1 - 3 3.5 274253 פיזיולוגיה תאית** 3 2 - - 4.0 25.5 *למשלימי התכנית לתואר כפול בלבד, יוכר גם הקורס גנטיקה כללית 134020 3.5 נמשלימי התכנית לתואר כפול בלבד, יוכר גם הקורס ביופיזיקה ונוירופיזיולוגיה 336537 3.0 נקבמסטר זה מומלץ לקחת את הקורפגשים עם התעשי 334331 )1.0 נק( במסגרת בחירה פקולטית בהנדסה ביו-רפואית סמסטר 5 ע בהנדסה ביו-רפואית 334022 יסודות תכן ביו-חשמלי 3 1 - 3.5 336022 מתא לרקמה 2 1 - 2.5 337403 תופעות מעבר במערכות פזיולוגיות 2 2 - 3.0 ברפואה 274142 שלישי קליני– להיות רופא )1( - - 6 - 2.0 274242 גנטיקה של האדם 2- - - 2.0 ביולוגיה מולקולרית ומנגנוני בקרה 3 - - - 3.0 מולקולריים 274243 274259 אנטומיה 4 - 3 4 5.0 274260 היסטולוגיה 2 - 3 4 3.0 24.0 סמסטר 6  בהנדסה ביו-רפואית 094423 מבוא לסטטיסטיקה 3 1 - 3.5 335001 מעבדה בהנדסה ביו-רפואית 1 - - 4 2.0 335010 תכן ביומכני בסיסי 2 2 - 3.0 קורסי בחירה בהנדסה ביו- 2.0 רפואית# ברפואה 274143 שלישי קליני – להיות רופא )2( - - 6 - 2.0 274237 מעבדה בביוכימיה קלינית - 1 2 4 1.0 274262 אמבריולוגיה 3 1 - 3 3.5 274263 אנטומיה ב4 - 3 4 5.0 276310 ביוכימיה קלינית 4 - - - 4.0 26.0 סמסטר נדסה ביו-רפואית 334014 פרויקט בהנדסה ביו-רפואית 1 - - 9 4.0 335002 מעבדה בהנדסה ביו-רפואית 2 - - 4 2.0 336533 יסודות אופטיקה ופוטוניקה 2 2 - 3.0 קורסי בחירה בהנדסה ביו-רפואית# 5.0 ברפואה 274255 שלישי קליני – להיות רופא )3( - - 6 - 2.0 274323 פיזיולוגיה 1 4 1 1 4 4.5 274348 פיזיולוגיה 2 3 1 1 4 4.0 24.5 הנדסה ביו-רפואית 33 / תוכנית לימודים תשף 2019/2020 287 סמסטר 8  בהנדסה ביו-רפואית 335003 מעבדה בהנדסה ביו-רפואית 3 - - 4 2.0 335015 פרויקט בהנדסה ביו-רפואית 2 - - 9 3.0 קורסי בחירה בהנדסה ביו- 10.0 רפואית# ברפואה 274246 2 - - - הבסיס המולקולרי לסרטן 2.0 274256 שלישי קליני – להיות רופא )4( - - 6 - 2.0 274261 אימונולוגיה בסיסית וקלינית 4 - - - 4.0 23.0 סמסטר 9 מפואה 274247 וירולוגיה 2.5 - - - 2.5 274252 פתוגנים אאוקריוטים 2 - - - 2.0 אנדוקרינולוגיה-פיזיולוגיה 3 - - - 3.0 ופתופיזיולוגיה 274328 274336 נוירופיזיולוגיה מערכתית 3 - - 1 3.0 274361 נוירואנטומיה 2 - 2 - 2.5 274370 שלישי קליני – להיות רופא )5( - - 6 - 2.0 274372 בקטריולוגיה 4 - 2 3 4.5 קורסי בחירה רפואה 2.0 21.5 סמסטר 10ברפואה 274251 אבולוציה 2 - - - 2.0 274318 אפידמיולוגיה 2 - - 2 2.0 274320 אתיקה ומשפט 2 - - 2 2.0 274352 תזונה קלינית 2 - - 3 2.0 274367 פרמקולוגיה בסיסית 3 2 - 1 4.0 274368 פתולוגיה כללית 4 - 3 6 5.0 274369 המטולוגיה 3 - - 6 3.0 274371 שלישי קליני – 2\"\n"
   ]
  },
  {
   "cell_type": "code",
   "execution_count": 54,
   "id": "ad55347c",
   "metadata": {},
   "outputs": [],
   "source": [
    "#splitting into mandetory and electives\n",
    "mech = find_6_digit_sequences(Mechanica)\n",
    "mech_core = mech[:6]\n",
    "mech_rest = mech[6:]"
   ]
  },
  {
   "cell_type": "code",
   "execution_count": 110,
   "id": "a1936ea2",
   "metadata": {},
   "outputs": [],
   "source": [
    "rekamot = find_6_digit_sequences(tissue)\n",
    "tissue_core = rekamot[:5]\n",
    "tissue_rest = rekamot[5:]"
   ]
  },
  {
   "cell_type": "markdown",
   "id": "a64dc763",
   "metadata": {},
   "source": [
    "This code goes through the list of courses and extract all the stats with a progress bar"
   ]
  },
  {
   "cell_type": "code",
   "execution_count": 32,
   "id": "51e53552",
   "metadata": {},
   "outputs": [],
   "source": [
    "#The git repo was deleted (?) not working anymore\n",
    "\"\"\"import csv\n",
    "from tqdm import tqdm\n",
    "from time import sleep\n",
    "\n",
    "def get_finals_statistics(course_numbers):\n",
    "    all_statistics = {}\n",
    "    for course_number in tqdm(course_numbers):\n",
    "        # Construct the GitHub API URL for the course directory\n",
    "        api_url = f\"https://api.github.com/repos/michael-maltsev/technion-histograms/contents/{course_number}\"\n",
    "        https://github.com/michael-maltsev/technion-histograms/tree/main\n",
    "        try:\n",
    "            # Fetch list of contents in the course directory\n",
    "            response = requests.get(api_url)\n",
    "            response.raise_for_status()  # Raise an exception for bad response status\n",
    "            contents = response.json()\n",
    "\n",
    "            # Loop through each content in the directory\n",
    "            for item in contents:\n",
    "                if item['type'] == 'dir':\n",
    "                    folder_name = item['name']\n",
    "                    finals_json_url = f\"https://raw.githubusercontent.com/michael-maltsev/technion-histograms/main/{course_number}/{folder_name}/Finals.json\"\n",
    "\n",
    "                    # Check if Finals.json exists in the folder\n",
    "                    finals_response = requests.head(finals_json_url)\n",
    "                    if finals_response.status_code == 200:\n",
    "                        finals_data = requests.get(finals_json_url).json()\n",
    "                        if course_number not in all_statistics:\n",
    "                            all_statistics[course_number] = {'medians': [], 'folders': {}}\n",
    "                        all_statistics[course_number]['medians'].append(finals_data.get('median'))\n",
    "                        all_statistics[course_number]['folders'][folder_name] = {\n",
    "                            'average': finals_data.get('average'),\n",
    "                            'median': finals_data.get('median')\n",
    "                        }\n",
    "        except requests.exceptions.RequestException as e:\n",
    "            print(f\"Error fetching data for course {course_number}: {e}\")\n",
    "        sleep(0.02)\n",
    "    return all_statistics\n",
    "\n",
    "\n",
    "\"\"\""
   ]
  },
  {
   "cell_type": "code",
   "execution_count": 29,
   "id": "8d93c4d9",
   "metadata": {},
   "outputs": [],
   "source": [
    "import csv\n",
    "\n",
    "def write_to_csv(statistics):\n",
    "    filename = input(\"Enter the filename to save the CSV: \")\n",
    "    filename = filename + \".csv\"\n",
    "    with open(filename, mode='w', newline='') as file:\n",
    "        writer = csv.writer(file)\n",
    "        writer.writerow(['Course Number', 'Semester', 'Average', 'Median'])\n",
    "        for course_number, data in statistics.items():\n",
    "            for folder, stats in data['folders'].items():\n",
    "                writer.writerow([course_number, folder, stats['average'], stats['median']])\n",
    "        writer.writerow(['Course Number', 'Average of Medians'])\n",
    "        #calculate average of medians to put at the end of the CSV\n",
    "        average_medians = calculate_average_median(statistics)\n",
    "        for course_number in average_medians:\n",
    "            writer.writerow([course_number, average_medians[course_number]])\n",
    "    print(f\"Data has been written to {filename}\")"
   ]
  },
  {
   "cell_type": "code",
   "execution_count": 31,
   "id": "c43ed726",
   "metadata": {},
   "outputs": [],
   "source": [
    "def calculate_average_median(statistics):\n",
    "    average_medians = {}\n",
    "    for course_number, data in statistics.items():\n",
    "        medians = [folder['median'] for folder in data['folders'].values() if folder['median'] is not None]\n",
    "        if medians:\n",
    "            numeric_medians = [median for median in medians if isinstance(median, (int, float))]\n",
    "            if numeric_medians:\n",
    "                average_median = sum(numeric_medians) / len(numeric_medians)\n",
    "            else:\n",
    "                average_median = None\n",
    "        else:\n",
    "            average_median = None\n",
    "        average_medians[course_number] = average_median\n",
    "    return average_medians"
   ]
  },
  {
   "cell_type": "code",
   "execution_count": null,
   "id": "b6817496",
   "metadata": {},
   "outputs": [],
   "source": [
    "import requests\n",
    "\n",
    "# Replace 'YOUR_ACCESS_TOKEN' with your actual personal access token\n",
    "access_token = ' '\n",
    "\n",
    "# URL to access repository contents\n",
    "url = 'https://api.github.com/repos/michael-maltsev/technion-histograms/contents'\n",
    "\n",
    "# Set the Authorization header with the access token\n",
    "headers = {'Authorization': f'token {access_token}'}\n",
    "\n",
    "# Make the GET request\n",
    "response = requests.get(url, headers=headers)\n",
    "\n",
    "# Print the response content\n",
    "print(response.text)\n"
   ]
  },
  {
   "cell_type": "code",
   "execution_count": 34,
   "id": "c5ff0a60",
   "metadata": {},
   "outputs": [
    {
     "name": "stdout",
     "output_type": "stream",
     "text": [
      "Token is valid.\n"
     ]
    },
    {
     "name": "stderr",
     "output_type": "stream",
     "text": [
      "100%|██████████████████████████████████████████| 64/64 [08:53<00:00,  8.34s/it]\n"
     ]
    },
    {
     "ename": "TypeError",
     "evalue": "write_to_csv() takes 1 positional argument but 2 were given",
     "output_type": "error",
     "traceback": [
      "\u001B[1;31m---------------------------------------------------------------------------\u001B[0m",
      "\u001B[1;31mTypeError\u001B[0m                                 Traceback (most recent call last)",
      "Input \u001B[1;32mIn [34]\u001B[0m, in \u001B[0;36m<cell line: 74>\u001B[1;34m()\u001B[0m\n\u001B[0;32m     75\u001B[0m \u001B[38;5;28mprint\u001B[39m(\u001B[38;5;124m\"\u001B[39m\u001B[38;5;124mToken is valid.\u001B[39m\u001B[38;5;124m\"\u001B[39m)\n\u001B[0;32m     76\u001B[0m all_statistics \u001B[38;5;241m=\u001B[39m get_finals_statistics(course_numbers, access_token)\n\u001B[1;32m---> 77\u001B[0m \u001B[43mwrite_to_csv\u001B[49m\u001B[43m(\u001B[49m\u001B[43mall_statistics\u001B[49m\u001B[43m,\u001B[49m\u001B[43m \u001B[49m\u001B[38;5;124;43m\"\u001B[39;49m\u001B[38;5;124;43mtemp_data.csv\u001B[39;49m\u001B[38;5;124;43m\"\u001B[39;49m\u001B[43m)\u001B[49m\n\u001B[0;32m     78\u001B[0m average_medians \u001B[38;5;241m=\u001B[39m calculate_average_median(all_statistics)\n\u001B[0;32m     79\u001B[0m \u001B[38;5;28mprint\u001B[39m(\u001B[38;5;124m\"\u001B[39m\u001B[38;5;124mAverage of medians for each course:\u001B[39m\u001B[38;5;124m\"\u001B[39m, average_medians)\n",
      "\u001B[1;31mTypeError\u001B[0m: write_to_csv() takes 1 positional argument but 2 were given"
     ]
    }
   ],
   "source": [
    "import requests\n",
    "\n",
    "def get_finals_statistics(course_numbers, access_token):\n",
    "    base_url = \"https://api.github.com/repos/michael-maltsev/technion-histograms/contents/\"\n",
    "    headers = {'Authorization': f'token {access_token}'}\n",
    "    all_statistics = {}\n",
    "\n",
    "    for course_number in tqdm(course_numbers):\n",
    "        course_url = f\"{base_url}{course_number}?ref=main\"\n",
    "        try:\n",
    "            response = requests.get(course_url, headers=headers)\n",
    "            response.raise_for_status()\n",
    "            contents = response.json()\n",
    "\n",
    "            course_data = {'folders': {}}\n",
    "\n",
    "            for item in contents:\n",
    "                if item['type'] == 'dir':\n",
    "                    folder_name = item['name']\n",
    "                    finals_json_url = f\"https://raw.githubusercontent.com/michael-maltsev/technion-histograms/main/{course_number}/{folder_name}/Finals.json\"\n",
    "                    finals_response = requests.head(finals_json_url)\n",
    "                    if finals_response.status_code == 200:\n",
    "                        finals_data = requests.get(finals_json_url).json()\n",
    "                        course_data['folders'][folder_name] = {\n",
    "                            'average': finals_data.get('average'),\n",
    "                            'median': finals_data.get('median')\n",
    "                        }\n",
    "\n",
    "            all_statistics[course_number] = course_data\n",
    "        except requests.exceptions.RequestException as e:\n",
    "            print(f\"Error fetching data for course {course_number}: {e}\")\n",
    "        sleep(0.2)\n",
    "    return all_statistics\n",
    "\n",
    "def write_to_csv(statistics):\n",
    "    filename = input(\"Enter the filename to save the CSV: \")\n",
    "    filename = filename + \".csv\"\n",
    "    with open(filename, mode='w', newline='') as file:\n",
    "        writer = csv.writer(file)\n",
    "        writer.writerow(['Course Number', 'Semester', 'Average', 'Median'])\n",
    "        for course_number, data in statistics.items():\n",
    "            for folder, stats in data['folders'].items():\n",
    "                writer.writerow([course_number, folder, stats['average'], stats['median']])\n",
    "        writer.writerow(['Course Number', 'Average of Medians'])\n",
    "        #calculate average of medians to put at the end of the CSV\n",
    "        average_medians = calculate_average_median(statistics)\n",
    "        for course_number in average_medians:\n",
    "            writer.writerow([course_number, average_medians[course_number]])\n",
    "    print(f\"Data has been written to {filename}\")\n",
    "\n",
    "def calculate_average_median(statistics):\n",
    "    average_medians = {}\n",
    "    for course_number, data in statistics.items():\n",
    "        medians = [folder['median'] for folder in data['folders'].values() if folder['median'] is not None]\n",
    "        if medians:\n",
    "            numeric_medians = [median for median in medians if isinstance(median, (int, float))]\n",
    "            if numeric_medians:\n",
    "                average_median = sum(numeric_medians) / len(numeric_medians)\n",
    "            else:\n",
    "                average_median = None\n",
    "        else:\n",
    "            average_median = None\n",
    "        average_medians[course_number] = average_median\n",
    "    return average_medians\n",
    "\n",
    "# Example usage:\n",
    "course_numbers = find_6_digit_sequences(refua2021)\n",
    "access_token = ' '  # Replace with your actual access token\n",
    "\n",
    "# Test the token validity by making a simple API request\n",
    "test_url = \"https://api.github.com/user\"\n",
    "test_response = requests.get(test_url, headers={'Authorization': f'token {access_token}'})\n",
    "\n",
    "if test_response.status_code == 200:\n",
    "    print(\"Token is valid.\")\n",
    "    all_statistics = get_finals_statistics(course_numbers, access_token)\n",
    "else:\n",
    "    print(f\"Invalid token. Status code: {test_response.status_code}\")\n",
    "    print(test_response.json())"
   ]
  },
  {
   "cell_type": "code",
   "execution_count": 45,
   "id": "b1fab232",
   "metadata": {},
   "outputs": [],
   "source": []
  }
 ],
 "metadata": {
  "kernelspec": {
   "display_name": "Python 3 (ipykernel)",
   "language": "python",
   "name": "python3"
  },
  "language_info": {
   "codemirror_mode": {
    "name": "ipython",
    "version": 3
   },
   "file_extension": ".py",
   "mimetype": "text/x-python",
   "name": "python",
   "nbconvert_exporter": "python",
   "pygments_lexer": "ipython3",
   "version": "3.9.12"
  }
 },
 "nbformat": 4,
 "nbformat_minor": 5
}
