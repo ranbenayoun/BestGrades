{
 "cells": [
  {
   "cell_type": "markdown",
   "id": "64f1fa09",
   "metadata": {},
   "source": [
    "<h1> Best Grades </h1>"
   ]
  },
  {
   "cell_type": "markdown",
   "id": "a521d461",
   "metadata": {},
   "source": [
    "I first wrote this code, which takes the data from a git branch calles \"master\""
   ]
  },
  {
   "cell_type": "code",
   "execution_count": 5,
   "id": "064f0ea6",
   "metadata": {},
   "outputs": [
    {
     "name": "stdout",
     "output_type": "stream",
     "text": [
      "Enter the course number: 336022\n",
      "Folder: 201501, Average: 81.552, Median: 84\n",
      "Folder: 201601, Average: 85.118, Median: 88.5\n",
      "Folder: 201701, Average: 77.279, Median: 78\n",
      "Folder: 201801, Average: 79.404, Median: 82.5\n",
      "Folder: 201901, Average: 77.947, Median: 78\n",
      "Folder: 202001, Average: 84.282, Median: 87\n",
      "Folder: 202101, Average: 84.253, Median: 86\n",
      "Folder: 202201, Average: 84.7, Median: 87\n"
     ]
    }
   ],
   "source": [
    "import requests\n",
    "\n",
    "def get_course_statistics(course_number):\n",
    "    # Construct the GitHub API URL for the course directory\n",
    "    api_url = f\"https://api.github.com/repos/michael-maltsev/technion-histograms/contents/{course_number}\"\n",
    "    \n",
    "    try:\n",
    "        # Fetch list of contents in the course directory\n",
    "        response = requests.get(api_url)\n",
    "        response.raise_for_status()  # Raise an exception for bad response status\n",
    "        contents = response.json()\n",
    "\n",
    "        statistics = {}\n",
    "\n",
    "        # Loop through each content in the directory\n",
    "        for item in contents:\n",
    "            if item['type'] == 'dir':\n",
    "                folder_name = item['name']\n",
    "                finals_json_url = f\"https://raw.githubusercontent.com/michael-maltsev/technion-histograms/master/{course_number}/{folder_name}/Finals.json\"\n",
    "\n",
    "                # Check if Finals.json exists in the folder\n",
    "                finals_response = requests.head(finals_json_url)\n",
    "                if finals_response.status_code == 200:\n",
    "                    finals_data = requests.get(finals_json_url).json()\n",
    "                    statistics[folder_name] = {\n",
    "                        'average': finals_data.get('average'),\n",
    "                        'median': finals_data.get('median')\n",
    "                    }\n",
    "\n",
    "        return statistics\n",
    "    except requests.exceptions.RequestException as e:\n",
    "        print(f\"Error fetching data: {e}\")\n",
    "        return None\n",
    "\n",
    "# Example usage:\n",
    "course_number = input(\"Enter the course number: \")\n",
    "course_statistics = get_course_statistics(course_number)\n",
    "if course_statistics:\n",
    "    for folder, stats in course_statistics.items():\n",
    "        print(f\"Folder: {folder}, Average: {stats['average']}, Median: {stats['median']}\")\n"
   ]
  },
  {
   "cell_type": "markdown",
   "id": "28e552d1",
   "metadata": {},
   "source": [
    "As it turned out to be outdated, I changed the branch to \"main\" (https://github.com/michael-maltsev/technion-histograms/tree/main)\n",
    "- and this is to a single course"
   ]
  },
  {
   "cell_type": "code",
   "execution_count": 2,
   "id": "1f7e660c",
   "metadata": {},
   "outputs": [
    {
     "name": "stdout",
     "output_type": "stream",
     "text": [
      "Enter the course number: 336002\n",
      "Error fetching data: 404 Client Error: Not Found for url: https://api.github.com/repos/michael-maltsev/technion-histograms/contents/336002\n"
     ]
    }
   ],
   "source": [
    "import requests\n",
    "\n",
    "def get_course_statistics(course_number):\n",
    "    # Construct the GitHub API URL for the course directory\n",
    "    api_url = f\"https://api.github.com/repos/michael-maltsev/technion-histograms/contents/{course_number}\"\n",
    "    \n",
    "    try:\n",
    "        # Fetch list of contents in the course directory\n",
    "        response = requests.get(api_url)\n",
    "        response.raise_for_status()  # Raise an exception for bad response status\n",
    "        contents = response.json()\n",
    "\n",
    "        statistics = {}\n",
    "\n",
    "        # Loop through each content in the directory\n",
    "        for item in contents:\n",
    "            if item['type'] == 'dir':\n",
    "                folder_name = item['name']\n",
    "                finals_json_url = f\"https://raw.githubusercontent.com/michael-maltsev/technion-histograms/main/{course_number}/{folder_name}/Finals.json\"\n",
    "\n",
    "                # Check if Finals.json exists in the folder\n",
    "                finals_response = requests.head(finals_json_url)\n",
    "                if finals_response.status_code == 200:\n",
    "                    finals_data = requests.get(finals_json_url).json()\n",
    "                    statistics[folder_name] = {\n",
    "                        'average': finals_data.get('average'),\n",
    "                        'median': finals_data.get('median')\n",
    "                    }\n",
    "\n",
    "        return statistics\n",
    "    except requests.exceptions.RequestException as e:\n",
    "        print(f\"Error fetching data: {e}\")\n",
    "        return None\n",
    "\n",
    "# Example usage:\n",
    "course_number = input(\"Enter the course number: \")\n",
    "course_statistics = get_course_statistics(course_number)\n",
    "if course_statistics:\n",
    "    for folder, stats in course_statistics.items():\n",
    "        print(f\"Folder: {folder}, Average: {stats['average']}, Median: {stats['median']}\")\n"
   ]
  },
  {
   "cell_type": "markdown",
   "id": "422b5c6a",
   "metadata": {},
   "source": [
    "<h2>Signals & Imaging courses: must complete at least 5 courses</h2>"
   ]
  },
  {
   "cell_type": "markdown",
   "id": "19b93dee",
   "metadata": {},
   "source": [
    "Core (must complete at least 2)"
   ]
  },
  {
   "cell_type": "code",
   "execution_count": 3,
   "id": "c2187b48",
   "metadata": {},
   "outputs": [
    {
     "data": {
      "text/plain": [
       "336533"
      ]
     },
     "execution_count": 3,
     "metadata": {},
     "output_type": "execute_result"
    }
   ],
   "source": [
    "336020\n",
    "336023\n",
    "336027\n",
    "336208\n",
    "336326\n",
    "336502\n",
    "336522\n",
    "336533"
   ]
  },
  {
   "cell_type": "markdown",
   "id": "616469ae",
   "metadata": {},
   "source": [
    "Not Core"
   ]
  },
  {
   "cell_type": "code",
   "execution_count": 6,
   "id": "71698b8e",
   "metadata": {},
   "outputs": [
    {
     "data": {
      "text/plain": [
       "'336028\\n336325\\n336404\\n336504\\n336521\\n336536\\n336538\\n336540\\n336544\\n336545\\n336546\\n336547 \\n336549\\n336550\\n034033\\n044101\\n044198\\n044202\\n046195\\n046197\\n046200\\n046201\\n046211\\n046332\\n046745\\n046746\\n236523\\n236781'"
      ]
     },
     "execution_count": 6,
     "metadata": {},
     "output_type": "execute_result"
    }
   ],
   "source": [
    "\"\"\"336028\n",
    "336325\n",
    "336404\n",
    "336504\n",
    "336521\n",
    "336536\n",
    "336538\n",
    "336540\n",
    "336544\n",
    "336545\n",
    "336546\n",
    "336547 \n",
    "336549\n",
    "336550\n",
    "034033\n",
    "044101\n",
    "044198\n",
    "044202\n",
    "046195\n",
    "046197\n",
    "046200\n",
    "046201\n",
    "046211\n",
    "046332\n",
    "046745\n",
    "046746\n",
    "236523\n",
    "236781\"\"\""
   ]
  },
  {
   "cell_type": "code",
   "execution_count": 7,
   "id": "90b9c217",
   "metadata": {},
   "outputs": [],
   "source": [
    "otot = [\"336020\",\"336023\",\"336027\",\"336208\",\"336326\",\"336502\",\"336522\",\"336533\",\"336325\",\"336504\",\"336521\",\"336536\",\"336538\",\n",
    "\"336540\",\"336544\",\"336545\",\"336546\",\"336547\",\"336549\",\"336550\",\"034033\",\"044101\",\"044198\",\"044202\",\"046195\",\"046197\",\"046200\",\n",
    "\"046201\",\"046211\",\"046332\",\"046745\",\"046746\",\"236523\",\"236781\"]"
   ]
  },
  {
   "cell_type": "code",
   "execution_count": 8,
   "id": "ea637d74",
   "metadata": {},
   "outputs": [],
   "source": [
    "Mechanica = \"336326 336506 336517 336522 336539 336541 336021 336520 336521 336540 336549 336550 034033 035001 035199 036049  036076  084225\""
   ]
  },
  {
   "cell_type": "code",
   "execution_count": 9,
   "id": "f7e278e4",
   "metadata": {},
   "outputs": [],
   "source": [
    "tissue = \"336021 ננ - לויבב םיקיקלח ' יגולואירו הקינכמ 2 1 - 2.5 336402 ןכת ויב - םירמוח 2 1 - 2.5 336517 ויב - אתה לש הסדנה 2 1 - 2.5 336528 תופורת לש רקובמ רורחש 2 1 - 2.5 336529 םייגולויב םיפילחתו תומקר תסדנה 2 1 - 2.5 336326 םירטמרפ ךורעשו םינותנ חותינ 2 1 - 2.5 336404 םיינורטקלאויב םיקשממ 2 1 - 2.5 336405 כטויבבו היגולויבב םייסדנה תודוסי 'נ 2 1 - 2.5 336520 המקר יפילחתו םיידפוטרוא םילתש 2 1 - 2.5 336521 וידרקה 'עמ לש םייסדנה תונורקע 3 1 - 3.5 336538 ויב תונורקע - תולוקלומ תשיחל םייסדנה 2 1 - 2.5 336544 םייטנג םילגעמ 2 1 - 2.5 336548 ןכתל הדבעמ םייטנג םילגעמ - - 4 2.0 336549 ףוציר תוקינכט DNA 2 2 - 3.0 336550 תיבושיח הקיזיפויב 2 1 - 2.5 054413 היגולונכטויבב םהימושיו םירמילופ 2 1 - 2.5 134020 תיללכ הקיטנג 3 1 - 3.5 134069 תוחתפתהה לש היגולויב 2 1 - 2.5 134082 תירלוקלומ היגולויב 2 1 - 2.5 134119 יטנגה יוטיבה תרקב 2 1 - 2.5 134121 היגולוריוו היגולויבורקימ 3 - - 3.0 276413\""
   ]
  },
  {
   "cell_type": "code",
   "execution_count": 10,
   "id": "82fd4172",
   "metadata": {},
   "outputs": [],
   "source": [
    "hova_2024 = \"044102 למשח תודבעמב תוחיטב 4 - - 0.0 104065 הרבגלא 1מ2 4 2 - 5.0 104042 ודח 1מ2 4 2 - 5.0 114071 הקיזיפ 1 'מ 3 1 - 3.5 125001  הימיכ תיללכ 2 2 - 3.0 134058 104013 אודח 2ת 4 3 - 5.5 104038 הרבגלא 2מ 2 1 - 2.5 104136 רדמ  3 2 - 4.0 114052 הקיזיפ 2 3 1 - 3.5 124801 תינגרוא הימיכ 1 ב 2 1 - 2.5 234128 044105 םיילמשחה םילגעמה תרות 3 2 - 4.0 104214 הירופ ירוט 2 1 - 2.5 104215 תובכורמ תויצקנופ 2 1 - 2.5 104220 דמ 2 1 - 2.5 124503 תילקיזיפ הימיכ 1ב 2 1 - 2.5 134019 היגולומיזנאו הימיכויבל אובמ 2 1 - 2.5 334274 044131 תוכרעמו תותוא 4 2 - 5.0 104034 ח תורבתסהל אובמ 3 3 - 3.5 334221 לש תודוסי םירמוח םייאופר 2 1 - 2.5 334222 םיקצומ תקינכמ ויב הסדנהל - תיאופר 3 2 - 4.0 336537 134113 םיילובטמ םילולסמ 3 1 - 3.5 276011 םיסדנהמל ףוגה תוכרעמ לש היגולויזיפ 3 1 - 3.5 334009 םייגולויב םימרוז תקינכמ 3 2 - 4.0 334011 ויב ןכת תודוסי - ילמשח 3 2 - 4.0 335010 יסיסב ינכמויב ןכת 2 2 - 3.0 336022 334023 הקיטסיטטסל אובמ 3 1 - 3.5 335001 334014 ויב הסדנהב טקיורפ - תיאופר 1 - - 9 4.0 335002 335015 ויב הסדנהב טקיורפ - תיאופר 2 - - 9 3.0 335003\""
   ]
  },
  {
   "cell_type": "code",
   "execution_count": 32,
   "id": "882a3ce8",
   "metadata": {},
   "outputs": [],
   "source": [
    "hova_2021 = \"104016 104018 114071 125001 134058 104013 104135 114052 124801 234128 044105 104221 104223 134019 334274 044131 104034 336537 334221 335009 334222 134113 276011 334011 336022 336533 334023 335001 335010 334014 335002 335015 335003\""
   ]
  },
  {
   "cell_type": "code",
   "execution_count": 11,
   "id": "f017bc9a",
   "metadata": {},
   "outputs": [],
   "source": [
    "import re\n",
    "\n",
    "def find_6_digit_sequences(input_string):\n",
    "    # Define the regex pattern to match 6-digit sequences\n",
    "    pattern = r'\\b\\d{6}\\b'\n",
    "    \n",
    "    # Find all matches using findall() method\n",
    "    sequences = re.findall(pattern, input_string)\n",
    "    \n",
    "    return sequences"
   ]
  },
  {
   "cell_type": "code",
   "execution_count": 12,
   "id": "ad55347c",
   "metadata": {},
   "outputs": [
    {
     "name": "stdout",
     "output_type": "stream",
     "text": [
      "['336326', '336506', '336517', '336522', '336539', '336541', '336021', '336520', '336521', '336540', '336549', '336550', '034033', '035001', '035199', '036049', '036076', '084225']\n"
     ]
    }
   ],
   "source": [
    "# Example usage:\n",
    "input_string = Mechanica\n",
    "mech = find_6_digit_sequences(input_string)"
   ]
  },
  {
   "cell_type": "code",
   "execution_count": 13,
   "id": "a1936ea2",
   "metadata": {},
   "outputs": [],
   "source": [
    "rekamot = find_6_digit_sequences(tissue)"
   ]
  },
  {
   "cell_type": "markdown",
   "id": "a64dc763",
   "metadata": {},
   "source": [
    "This code goes through the list of courses and extract all the stats with a progress bar"
   ]
  },
  {
   "cell_type": "code",
   "execution_count": 40,
   "id": "51e53552",
   "metadata": {},
   "outputs": [],
   "source": [
    "import csv\n",
    "from tqdm import tqdm\n",
    "from time import sleep\n",
    "\n",
    "def get_finals_statistics(course_numbers):\n",
    "    all_statistics = {}\n",
    "    for course_number in tqdm(course_numbers):\n",
    "        # Construct the GitHub API URL for the course directory\n",
    "        api_url = f\"https://api.github.com/repos/michael-maltsev/technion-histograms/contents/{course_number}\"\n",
    "        \n",
    "        try:\n",
    "            # Fetch list of contents in the course directory\n",
    "            response = requests.get(api_url)\n",
    "            response.raise_for_status()  # Raise an exception for bad response status\n",
    "            contents = response.json()\n",
    "\n",
    "            # Loop through each content in the directory\n",
    "            for item in contents:\n",
    "                if item['type'] == 'dir':\n",
    "                    folder_name = item['name']\n",
    "                    finals_json_url = f\"https://raw.githubusercontent.com/michael-maltsev/technion-histograms/main/{course_number}/{folder_name}/Finals.json\"\n",
    "\n",
    "                    # Check if Finals.json exists in the folder\n",
    "                    finals_response = requests.head(finals_json_url)\n",
    "                    if finals_response.status_code == 200:\n",
    "                        finals_data = requests.get(finals_json_url).json()\n",
    "                        if course_number not in all_statistics:\n",
    "                            all_statistics[course_number] = {'medians': [], 'folders': {}}\n",
    "                        all_statistics[course_number]['medians'].append(finals_data.get('median'))\n",
    "                        all_statistics[course_number]['folders'][folder_name] = {\n",
    "                            'average': finals_data.get('average'),\n",
    "                            'median': finals_data.get('median')\n",
    "                        }\n",
    "        except requests.exceptions.RequestException as e:\n",
    "            print(f\"Error fetching data for course {course_number}: {e}\")\n",
    "        sleep(0.02)\n",
    "    return all_statistics"
   ]
  },
  {
   "cell_type": "code",
   "execution_count": 41,
   "id": "c6199736",
   "metadata": {},
   "outputs": [],
   "source": [
    "def write_to_csv(statistics):\n",
    "    filename = input(\"Enter the filename to save the CSV: \")\n",
    "    filename = filename + \".csv\"\n",
    "    with open(filename, mode='w', newline='') as file:\n",
    "        writer = csv.writer(file)\n",
    "        writer.writerow(['Course Number', 'Folder', 'Average', 'Median'])\n",
    "        for course_number, data in statistics.items():\n",
    "            for folder, stats in data['folders'].items():\n",
    "                writer.writerow([course_number, folder, stats['average'], stats['median']])\n",
    "        writer.writerow(['Course Number', 'Average of Medians'])\n",
    "        for course_number, data in statistics.items():\n",
    "            medians = [median for median in data['medians'] if isinstance(median, (int, float))]\n",
    "            if medians:\n",
    "                average_median = sum(medians) / len(medians)\n",
    "            else:\n",
    "                average_median = \"N/A\"\n",
    "            writer.writerow([course_number, average_median])\n",
    "    print(f\"Data has been written to {filename}\")"
   ]
  },
  {
   "cell_type": "code",
   "execution_count": null,
   "id": "d4fc0ae0",
   "metadata": {},
   "outputs": [],
   "source": [
    "# Example usage:\n",
    "course_numbers = otot  # Replace with your list of course numbers\n",
    "all_statistics = get_finals_statistics(course_numbers)\n",
    "write_to_csv(all_statistics)"
   ]
  },
  {
   "cell_type": "code",
   "execution_count": null,
   "id": "51cb1ec0",
   "metadata": {},
   "outputs": [],
   "source": [
    "mech_stats = get_finals_statistics(mech)\n",
    "write_to_csv(mech_stats)"
   ]
  },
  {
   "cell_type": "code",
   "execution_count": null,
   "id": "a5eaf3da",
   "metadata": {},
   "outputs": [],
   "source": [
    "reka_stats = get_finals_statistics(rekamot)\n",
    "write_to_csv(reka_stats)"
   ]
  },
  {
   "cell_type": "code",
   "execution_count": 16,
   "id": "d944c880",
   "metadata": {},
   "outputs": [
    {
     "name": "stderr",
     "output_type": "stream",
     "text": [
      "  6%|██▍                                        | 2/36 [00:14<03:32,  6.24s/it]"
     ]
    },
    {
     "name": "stdout",
     "output_type": "stream",
     "text": [
      "Error fetching data for course 104065: 404 Client Error: Not Found for url: https://api.github.com/repos/michael-maltsev/technion-histograms/contents/104065\n"
     ]
    },
    {
     "name": "stderr",
     "output_type": "stream",
     "text": [
      "100%|██████████████████████████████████████████| 36/36 [05:33<00:00,  9.26s/it]\n"
     ]
    },
    {
     "name": "stdout",
     "output_type": "stream",
     "text": [
      "Enter the filename to save the CSV: main_stats\n",
      "Data has been written to main_stats\n"
     ]
    }
   ],
   "source": [
    "main_stats = get_finals_statistics(main)\n",
    "write_to_csv(main_stats)"
   ]
  },
  {
   "cell_type": "code",
   "execution_count": 37,
   "id": "4239a74c",
   "metadata": {},
   "outputs": [
    {
     "name": "stderr",
     "output_type": "stream",
     "text": [
      " 94%|███████████████████████████████████████▍  | 31/33 [05:59<00:08,  4.45s/it]"
     ]
    },
    {
     "name": "stdout",
     "output_type": "stream",
     "text": [
      "Error fetching data for course 335002: 403 Client Error: rate limit exceeded for url: https://api.github.com/repos/michael-maltsev/technion-histograms/contents/335002\n"
     ]
    },
    {
     "name": "stderr",
     "output_type": "stream",
     "text": [
      "\r",
      " 97%|████████████████████████████████████████▋ | 32/33 [06:00<00:03,  3.20s/it]"
     ]
    },
    {
     "name": "stdout",
     "output_type": "stream",
     "text": [
      "Error fetching data for course 335015: 403 Client Error: rate limit exceeded for url: https://api.github.com/repos/michael-maltsev/technion-histograms/contents/335015\n"
     ]
    },
    {
     "name": "stderr",
     "output_type": "stream",
     "text": [
      "100%|██████████████████████████████████████████| 33/33 [06:00<00:00, 10.93s/it]"
     ]
    },
    {
     "name": "stdout",
     "output_type": "stream",
     "text": [
      "Error fetching data for course 335003: 403 Client Error: rate limit exceeded for url: https://api.github.com/repos/michael-maltsev/technion-histograms/contents/335003\n"
     ]
    },
    {
     "name": "stderr",
     "output_type": "stream",
     "text": [
      "\n"
     ]
    },
    {
     "ename": "NameError",
     "evalue": "name 'wrtie_to_csv' is not defined",
     "output_type": "error",
     "traceback": [
      "\u001b[1;31m---------------------------------------------------------------------------\u001b[0m",
      "\u001b[1;31mNameError\u001b[0m                                 Traceback (most recent call last)",
      "Input \u001b[1;32mIn [37]\u001b[0m, in \u001b[0;36m<cell line: 2>\u001b[1;34m()\u001b[0m\n\u001b[0;32m      1\u001b[0m main2021 \u001b[38;5;241m=\u001b[39m get_finals_statistics(find_6_digit_sequences(hova_2021))\n\u001b[1;32m----> 2\u001b[0m \u001b[43mwrtie_to_csv\u001b[49m(main2021)\n",
      "\u001b[1;31mNameError\u001b[0m: name 'wrtie_to_csv' is not defined"
     ]
    }
   ],
   "source": [
    "main2021 = get_finals_statistics(find_6_digit_sequences(hova_2021))\n",
    "wrtie_to_csv(main2021)"
   ]
  },
  {
   "cell_type": "code",
   "execution_count": 39,
   "id": "a3197cd3",
   "metadata": {},
   "outputs": [
    {
     "name": "stdout",
     "output_type": "stream",
     "text": [
      "Enter the filename to save the CSV: main2021\n",
      "Data has been written to main2021.csv\n"
     ]
    }
   ],
   "source": [
    "write_to_csv(main2021)"
   ]
  },
  {
   "cell_type": "code",
   "execution_count": 44,
   "id": "39ce48ae",
   "metadata": {},
   "outputs": [
    {
     "name": "stdout",
     "output_type": "stream",
     "text": [
      "Data has been written to temp_data.csv\n"
     ]
    }
   ],
   "source": [
    "\n"
   ]
  },
  {
   "cell_type": "code",
   "execution_count": null,
   "id": "bbf75172",
   "metadata": {},
   "outputs": [],
   "source": []
  }
 ],
 "metadata": {
  "kernelspec": {
   "display_name": "Python 3 (ipykernel)",
   "language": "python",
   "name": "python3"
  },
  "language_info": {
   "codemirror_mode": {
    "name": "ipython",
    "version": 3
   },
   "file_extension": ".py",
   "mimetype": "text/x-python",
   "name": "python",
   "nbconvert_exporter": "python",
   "pygments_lexer": "ipython3",
   "version": "3.9.12"
  }
 },
 "nbformat": 4,
 "nbformat_minor": 5
}
