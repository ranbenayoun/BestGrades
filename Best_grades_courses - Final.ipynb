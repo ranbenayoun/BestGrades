{
 "cells": [
  {
   "cell_type": "markdown",
   "id": "64f1fa09",
   "metadata": {
    "editable": true,
    "slideshow": {
     "slide_type": ""
    },
    "tags": []
   },
   "source": [
    "<h1> Best Grades </h1>"
   ]
  },
  {
   "cell_type": "markdown",
   "id": "422b5c6a",
   "metadata": {},
   "source": [
    "<h2>Setting up the courses of interest</h2>"
   ]
  },
  {
   "cell_type": "markdown",
   "id": "19b93dee",
   "metadata": {},
   "source": [
    "getting the course list from the catalog. the courses are split into core from which you must complete at least 2, and the rest of the courses."
   ]
  },
  {
   "cell_type": "code",
   "execution_count": 32,
   "id": "f017bc9a",
   "metadata": {},
   "outputs": [],
   "source": [
    "import re\n",
    "\n",
    "def find_6_digit_sequences(input_string):\n",
    "    \"\"\"\n",
    "    Finds all unique 6-digit sequences in a given string.\n",
    "\n",
    "    Args:\n",
    "        input_string (str): The string to search for 6-digit sequences.\n",
    "\n",
    "    Returns:\n",
    "        list: A list of unique 6-digit sequences found in the input string.\n",
    "    \"\"\"\n",
    "    # Define the regex pattern to match 6-digit sequences\n",
    "    pattern = r'\\b\\d{6}\\b'\n",
    "    \n",
    "    # Find all matches using findall() method\n",
    "    sequences = re.findall(pattern, input_string)\n",
    "    \n",
    "    return sequences"
   ]
  },
  {
   "cell_type": "code",
   "execution_count": 2,
   "id": "eb5d04f5",
   "metadata": {},
   "outputs": [],
   "source": [
    "def clean_string(input_string):\n",
    "    \"\"\"\n",
    "    Cleans a string by removing double quotes, single quotes, new lines, \n",
    "    carriage returns, and excessive spaces.\n",
    "\n",
    "    Args:\n",
    "        input_string (str): The string to be cleaned.\n",
    "\n",
    "    Returns:\n",
    "        str: The cleaned string.\n",
    "    \"\"\"\n",
    "    # Replace unwanted characters\n",
    "    cleaned_string = input_string.replace('\"', '').replace(\"'\", '').replace('\\n', ' ').replace('\\r', ' ')\n",
    "    \n",
    "    # Remove leading and trailing whitespace\n",
    "    cleaned_string = cleaned_string.strip()\n",
    "    \n",
    "    # Remove excessive spaces between words\n",
    "    cleaned_string = ' '.join(cleaned_string.split())\n",
    "    \n",
    "    return cleaned_string"
   ]
  },
  {
   "cell_type": "code",
   "execution_count": 22,
   "id": "d7977a5a",
   "metadata": {},
   "outputs": [],
   "source": [
    "reshA = \"\"\"\"\""
   ]
  },
  {
   "cell_type": "code",
   "execution_count": 82,
   "id": "ef8658d2-6644-445e-b464-5c8be61ddd36",
   "metadata": {
    "scrolled": true
   },
   "outputs": [
    {
     "name": "stdout",
     "output_type": "stream",
     "text": [
      "Enter your catalog entries (type 'done' when finished):\n"
     ]
    },
    {
     "name": "stdin",
     "output_type": "stream",
     "text": [
      "Catalog name:  done\n"
     ]
    },
    {
     "data": {
      "text/plain": [
       "'\\nfor catalog_name, catalog_content in catalogs.items():\\n    print(f\"{catalog_name}: {catalog_content}\")\\n'"
      ]
     },
     "execution_count": 82,
     "metadata": {},
     "output_type": "execute_result"
    }
   ],
   "source": [
    "import json\n",
    "import os\n",
    "\n",
    "def add_to_catalog_file(filename):\n",
    "    \"\"\"\n",
    "    Adds new catalog data to an existing JSON file through one-time user input. \n",
    "    If the file does not exist, it creates a new one.\n",
    "\n",
    "    Args:\n",
    "        filename (str): The name of the JSON file to be updated or created.\n",
    "\n",
    "    Example:\n",
    "        add_to_catalog_file(\"catalogs.json\")\n",
    "    \"\"\"\n",
    "    # Load existing data\n",
    "    if os.path.exists(filename):\n",
    "        with open(filename, 'r') as f:\n",
    "            existing_catalogs = json.load(f)\n",
    "    else:\n",
    "        existing_catalogs = {}\n",
    "\n",
    "    # Get user input for new catalog entries\n",
    "    print(\"Enter your catalog entries (type 'done' when finished):\")\n",
    "    while True:\n",
    "        catalog_name = input(\"Catalog name: \")\n",
    "        if catalog_name.lower() == 'done':\n",
    "            break\n",
    "        catalog_content = []\n",
    "        print(\"Enter the catalog content (type 'done' on a new line when finished):\")\n",
    "        while True:\n",
    "            line = input()\n",
    "            if line.lower() == 'done':\n",
    "                break\n",
    "            catalog_content.append(line)\n",
    "        catalog_content = '\\n'.join(catalog_content)\n",
    "        \n",
    "        existing_catalogs[catalog_name] = catalog_content\n",
    "\n",
    "    # Save the updated data back to the JSON file\n",
    "    with open(filename, 'w') as f:\n",
    "        json.dump(existing_catalogs, f, indent=4)\n",
    "\n",
    "# Example usage\n",
    "add_to_catalog_file(\"catalogs.json\")\n",
    "\n",
    "# Loading the updated catalogs to verify\n",
    "def load_catalog_file(filename):\n",
    "    \"\"\"\n",
    "    Loads a JSON file and returns the catalog data as a dictionary.\n",
    "\n",
    "    Args:\n",
    "        filename (str): The name of the JSON file to be loaded.\n",
    "\n",
    "    Returns:\n",
    "        dict: A dictionary containing the catalog data.\n",
    "    \"\"\"\n",
    "    with open(filename, 'r') as f:\n",
    "        catalogs = json.load(f)\n",
    "    return catalogs\n",
    "\n",
    "catalog = load_catalog_file(\"catalogs.json\")\n",
    "\"\"\"\n",
    "for catalog_name, catalog_content in catalogs.items():\n",
    "    print(f\"{catalog_name}: {catalog_content}\")\n",
    "\"\"\""
   ]
  },
  {
   "cell_type": "code",
   "execution_count": 57,
   "id": "b4b8b06f",
   "metadata": {},
   "outputs": [],
   "source": [
    "#Helps to know what changed each year\n",
    "def compare_lists(list1, list2):\n",
    "    differences = {\n",
    "        \"only_in_list1\": [item for item in list1 if item not in list2],\n",
    "        \"only_in_list2\": [item for item in list2 if item not in list1],\n",
    "        \"in_both\": [item for item in list1 if item in list2]\n",
    "    }\n",
    "    return differences\n",
    "\n",
    "hova2018 = find_6_digit_sequences(hova_2018)\n",
    "hova2019 = find_6_digit_sequences(hova_2019)\n",
    "hova2020 = find_6_digit_sequences(hova_2020)\n",
    "hova2021 = find_6_digit_sequences(hova_2021)\n",
    "hova2022 = find_6_digit_sequences(hova_2022)\n",
    "hova2023 = find_6_digit_sequences(hova_2023)\n",
    "\n",
    "#compare_lists(hova2019, hova2023)"
   ]
  },
  {
   "cell_type": "code",
   "execution_count": 72,
   "id": "ad55347c",
   "metadata": {},
   "outputs": [],
   "source": [
    "#splitting into mandetory and electives - Biomechanics\n",
    "mech = find_6_digit_sequences(clean_string(catalog['BioMechanics']))\n",
    "mech_core = mech[:6]\n",
    "mech_rest = mech[6:]"
   ]
  },
  {
   "cell_type": "code",
   "execution_count": null,
   "id": "932c280d-735f-4621-84c9-ec16b9e019cb",
   "metadata": {},
   "outputs": [],
   "source": [
    "sig_core = [\"336020\",\"336023\",\"336027\",\"336208\",\"336326\",\"336502\",\"336522\",\"336533\"]\n",
    "sig_rest =[\"336325\",\"336504\",\"336521\",\"336536\",\"336538\",\"336540\",\"336544\",\"336545\",\"336546\",\"336547\",\"336549\",\"336550\",\"034033\",\"044101\",\"044198\",\"044202\",\"046195\",\"046197\",\"046200\",\"046201\",\"046211\",\"046332\",\"046745\",\"046746\",\"236523\",\"236781\"]"
   ]
  },
  {
   "cell_type": "code",
   "execution_count": 73,
   "id": "a1936ea2",
   "metadata": {},
   "outputs": [],
   "source": [
    "#splitting into mandetory and electives - Tissue engineering\n",
    "rekamot = find_6_digit_sequences(clean_string(catalog['Tissue']))\n",
    "tissue_core = rekamot[:5]\n",
    "tissue_rest = rekamot[5:]"
   ]
  },
  {
   "cell_type": "markdown",
   "id": "a64dc763",
   "metadata": {},
   "source": [
    "This code goes through the list of courses and extract all the stats from Cheesfork's GitHub while showing a progress bar - got to be patient"
   ]
  },
  {
   "cell_type": "code",
   "execution_count": 16,
   "id": "105fade0",
   "metadata": {},
   "outputs": [],
   "source": [
    "import matplotlib.pyplot as plt\n",
    "import numpy as np\n",
    "\n",
    "def plot_bar_chart_with_trendline(average_medians):\n",
    "    \"\"\"\n",
    "    Plots a bar chart of the average medians with a trendline.\n",
    "\n",
    "    Args:\n",
    "        average_medians (dict): A dictionary with course numbers as keys and their average median values as values.\n",
    "    \"\"\"\n",
    "    # Filter out None values\n",
    "    courses = [course for course, median in average_medians.items() if median is not None]\n",
    "    medians = [median for median in average_medians.values() if median is not None]\n",
    "\n",
    "    plt.figure(figsize=(10, 6))\n",
    "    plt.bar(courses, medians, color='skyblue', label='Average Median')\n",
    "\n",
    "    # Add trendline\n",
    "    x = np.arange(len(courses))\n",
    "    z = np.polyfit(x, medians, 1)\n",
    "    p = np.poly1d(z)\n",
    "    plt.plot(courses, p(x), \"r--\", label='Trendline')\n",
    "\n",
    "    plt.title('Bar Plot of Average Medians by Course Number')\n",
    "    plt.xlabel('Course Number')\n",
    "    plt.ylabel('Average Median')\n",
    "    plt.xticks(rotation=45)\n",
    "    plt.grid(axis='y')\n",
    "    plt.legend()\n",
    "    plt.tight_layout()\n",
    "    plt.show()\n",
    "\n",
    "# Example usage:\n",
    "# average_medians = {'course1': 75.32, 'course2': 85.12, 'course3': 90.45}\n",
    "# plot_bar_chart_with_trendline(average_medians)\n",
    "\n",
    "#plot_bar_chart_with_trendline(calculate_average_median(hova2023))\n",
    "\n"
   ]
  },
  {
   "cell_type": "code",
   "execution_count": 14,
   "id": "c5ff0a60",
   "metadata": {},
   "outputs": [],
   "source": [
    "import requests\n",
    "from tqdm import tqdm\n",
    "from time import sleep\n",
    "import csv\n",
    "%load_ext jupyternotify\n",
    "\n",
    "def get_finals_statistics(course_numbers, access_token):\n",
    "    \"\"\"\n",
    "    Fetches the finals statistics for the given course numbers from GitHub.\n",
    "\n",
    "    Args:\n",
    "        course_numbers (list of str): List of course numbers to fetch statistics for.\n",
    "        access_token (str): GitHub access token for authentication.\n",
    "\n",
    "    Returns:\n",
    "        dict: A dictionary containing the statistics for each course.\n",
    "    \"\"\"\n",
    "    base_url = \"https://api.github.com/repos/michael-maltsev/technion-histograms/contents/\"\n",
    "    headers = {'Authorization': f'token {access_token}'}\n",
    "    all_statistics = {}\n",
    "\n",
    "    for course_number in tqdm(course_numbers):\n",
    "        course_url = f\"{base_url}{course_number}?ref=main\"\n",
    "        try:\n",
    "            response = requests.get(course_url, headers=headers)\n",
    "            response.raise_for_status()\n",
    "            contents = response.json()\n",
    "\n",
    "            course_data = {'folders': {}}\n",
    "\n",
    "            for item in contents:\n",
    "                if item['type'] == 'dir':\n",
    "                    folder_name = item['name']\n",
    "                    finals_json_url = f\"https://raw.githubusercontent.com/michael-maltsev/technion-histograms/main/{course_number}/{folder_name}/Finals.json\"\n",
    "                    finals_response = requests.head(finals_json_url)\n",
    "                    if finals_response.status_code == 200:\n",
    "                        finals_data = requests.get(finals_json_url).json()\n",
    "                        course_data['folders'][folder_name] = {\n",
    "                            'average': finals_data.get('average'),\n",
    "                            'median': finals_data.get('median')\n",
    "                        }\n",
    "\n",
    "            all_statistics[course_number] = course_data\n",
    "        except requests.exceptions.RequestException as e:\n",
    "            print(f\"Error fetching data for course {course_number}: {e}\")\n",
    "        sleep(0.2)\n",
    "    return all_statistics\n",
    "\n",
    "def write_to_csv(statistics):\n",
    "    \"\"\"\n",
    "    Writes the finals statistics to a CSV file.\n",
    "\n",
    "    Args:\n",
    "        statistics (dict): The statistics data to write to the CSV.\n",
    "        filename (str): The name of the CSV file to write to.\n",
    "    \"\"\"\n",
    "    filename = input(\"Enter the filename to save the CSV: \")\n",
    "    filename = filename + \".csv\"\n",
    "    with open(filename, mode='w', newline='') as file:\n",
    "        writer = csv.writer(file)\n",
    "        writer.writerow(['Course Number', 'Semester', 'Average', 'Median'])\n",
    "        for course_number, data in statistics.items():\n",
    "            for folder, stats in data['folders'].items():\n",
    "                writer.writerow([course_number, folder, stats['average'], stats['median']])\n",
    "        writer.writerow(['Course Number', 'Average of Medians'])\n",
    "        #calculate average of medians to put at the end of the CSV\n",
    "        average_medians = calculate_average_median(statistics)\n",
    "        for course_number in average_medians:\n",
    "            writer.writerow([course_number, average_medians[course_number]])\n",
    "    print(f\"Data has been written to {filename}\")\n",
    "\n",
    "def calculate_average_median(statistics):\n",
    "    \"\"\"\n",
    "    Calculates the average of the median values for each course.\n",
    "\n",
    "    Args:\n",
    "        statistics (dict): The statistics data containing median values.\n",
    "\n",
    "    Returns:\n",
    "        dict: A dictionary with course numbers as keys and their average median values as values.\n",
    "    \"\"\"\n",
    "    average_medians = {}\n",
    "    for course_number, data in statistics.items():\n",
    "        medians = []\n",
    "        for folder in data['folders'].values():\n",
    "            median_value = folder['median']\n",
    "            if median_value is not None:\n",
    "                try:\n",
    "                    median_value = round(float(median_value), 2)  # Round to 2 decimal places\n",
    "                    medians.append(median_value)\n",
    "                except ValueError:\n",
    "                    # Skip non-numeric median values silently\n",
    "                    continue\n",
    "        \n",
    "        if medians:\n",
    "            average_median = round(sum(medians) / len(medians), 2)  # Round to 2 decimal places\n",
    "        else:\n",
    "            average_median = None\n",
    "        average_medians[course_number] = average_median\n",
    "\n",
    "    return average_medians"
   ]
  },
  {
   "cell_type": "markdown",
   "id": "6b8dcb23",
   "metadata": {},
   "source": [
    "Set up your personal access token from GitHub - this next code will test if it's valid. if not you'll be limited to get 60 courses per hour"
   ]
  },
  {
   "cell_type": "code",
   "execution_count": 15,
   "id": "2fc97f69",
   "metadata": {},
   "outputs": [
    {
     "name": "stdout",
     "output_type": "stream",
     "text": [
      "Token is valid.\n"
     ]
    }
   ],
   "source": [
    "import requests\n",
    "\n",
    "access_token = ''  # Replace with your actual access token\n",
    "\n",
    "# Test the token validity by making a simple API request\n",
    "test_url = \"https://api.github.com/user\"\n",
    "test_response = requests.get(test_url, headers={'Authorization': f'token {access_token}'})\n",
    "\n",
    "if test_response.status_code == 200:\n",
    "    print(\"Token is valid.\")\n",
    "else:\n",
    "    print(f\"Invalid token. Status code: {test_response.status_code}\")\n",
    "    print(test_response.json())"
   ]
  },
  {
   "cell_type": "code",
   "execution_count": 21,
   "id": "6e7d8999",
   "metadata": {},
   "outputs": [
    {
     "data": {
      "image/png": "[encoded data removed]",
      "text/plain": [
       "<Figure size 1000x600 with 1 Axes>"
      ]
     },
     "metadata": {},
     "output_type": "display_data"
    },
    {
     "data": {
      "text/plain": [
       "<Figure size 640x480 with 0 Axes>"
      ]
     },
     "metadata": {},
     "output_type": "display_data"
    }
   ],
   "source": [
    "plot_bar_chart_with_trendline(calculate_average_median(mechonot))\n",
    "plt.savefig('mechonot_graph.png')"
   ]
  },
  {
   "cell_type": "code",
   "execution_count": 43,
   "id": "30297c0a",
   "metadata": {},
   "outputs": [
    {
     "name": "stderr",
     "output_type": "stream",
     "text": [
      "100%|██████████████████████████████████████████| 42/42 [09:11<00:00, 13.13s/it]\n",
      "100%|██████████████████████████████████████████| 43/43 [09:20<00:00, 13.04s/it]\n",
      "100%|██████████████████████████████████████████| 33/33 [07:03<00:00, 12.83s/it]\n",
      " 95%|████████████████████████████████████████  | 41/43 [08:43<00:10,  5.45s/it]"
     ]
    },
    {
     "name": "stdout",
     "output_type": "stream",
     "text": [
      "Error fetching data for course 336026: 404 Client Error: Not Found for url: https://api.github.com/repos/michael-maltsev/technion-histograms/contents/336026?ref=main\n"
     ]
    },
    {
     "name": "stderr",
     "output_type": "stream",
     "text": [
      "100%|██████████████████████████████████████████| 43/43 [08:50<00:00, 12.34s/it]\n",
      "100%|██████████████████████████████████████████| 37/37 [06:54<00:00, 11.20s/it]\n",
      "100%|██████████████████████████████████████████| 36/36 [06:15<00:00, 10.43s/it]\n"
     ]
    },
    {
     "data": {
      "application/javascript": [
       "$(document).ready(\n",
       "    function() {\n",
       "        function appendUniqueDiv(){\n",
       "            // append a div with our uuid so we can check that it's already\n",
       "            // been sent and avoid duplicates on page reload\n",
       "            var notifiedDiv = document.createElement(\"div\")\n",
       "            notifiedDiv.id = \"6f8ab707-1528-4a44-aa97-a7480ac32819\"\n",
       "            element.append(notifiedDiv)\n",
       "        }\n",
       "\n",
       "        // only send notifications if the pageload is complete; this will\n",
       "        // help stop extra notifications when a saved notebook is loaded,\n",
       "        // which during testing gives us state \"interactive\", not \"complete\"\n",
       "        if (document.readyState === 'complete') {\n",
       "            // check for the div that signifies that the notification\n",
       "            // was already sent\n",
       "            if (document.getElementById(\"6f8ab707-1528-4a44-aa97-a7480ac32819\") === null) {\n",
       "                var notificationPayload = {\"requireInteraction\": false, \"icon\": \"/static/base/images/favicon.ico\", \"body\": \"Cell execution has finished!\"};\n",
       "                if (Notification.permission !== 'denied') {\n",
       "                    if (Notification.permission !== 'granted') { \n",
       "                        Notification.requestPermission(function (permission) {\n",
       "                            if(!('permission' in Notification)) {\n",
       "                                Notification.permission = permission\n",
       "                            }\n",
       "                        })\n",
       "                    }\n",
       "                    if (Notification.permission === 'granted') {\n",
       "                    var notification = new Notification(\"Jupyter Notebook\", notificationPayload)\n",
       "                    appendUniqueDiv()\n",
       "                    notification.onclick = function () {\n",
       "                        window.focus();\n",
       "                        this.close();\n",
       "                        };\n",
       "                    } \n",
       "                }     \n",
       "            }\n",
       "        }\n",
       "    }\n",
       ")\n"
      ],
      "text/plain": [
       "<IPython.core.display.Javascript object>"
      ]
     },
     "metadata": {},
     "output_type": "display_data"
    }
   ],
   "source": [
    "%%notify\n",
    "\n",
    "hova2019 = get_finals_statistics(hova2019,access_token)\n",
    "hova2018 = get_finals_statistics(hova2018,access_token)\n",
    "hova2021 = get_finals_statistics(hova2021,access_token)\n",
    "hova2020 = get_finals_statistics(hova2020,access_token)\n",
    "hova2022 = get_finals_statistics(hova2022,access_token)\n",
    "hova2023 = get_finals_statistics(hova2023,access_token)"
   ]
  },
  {
   "cell_type": "code",
   "execution_count": 86,
   "id": "e4c6e659",
   "metadata": {},
   "outputs": [
    {
     "name": "stderr",
     "output_type": "stream",
     "text": [
      "100%|████████████████████████████████████████████████████████████████████████████████| 34/34 [07:40<00:00, 13.55s/it]\n"
     ]
    },
    {
     "data": {
      "image/png": "[encoded data removed]",
      "text/plain": [
       "<Figure size 1000x600 with 1 Axes>"
      ]
     },
     "metadata": {},
     "output_type": "display_data"
    },
    {
     "ename": "NameError",
     "evalue": "name 'grade_list' is not defined",
     "output_type": "error",
     "traceback": [
      "\u001B[1;31m---------------------------------------------------------------------------\u001B[0m",
      "\u001B[1;31mNameError\u001B[0m                                 Traceback (most recent call last)",
      "Cell \u001B[1;32mIn[86], line 3\u001B[0m\n\u001B[0;32m      1\u001B[0m biofood \u001B[38;5;241m=\u001B[39m get_finals_statistics(find_6_digit_sequences(clean_string(catalogs[\u001B[38;5;124m'\u001B[39m\u001B[38;5;124mbiofood_hova_2023\u001B[39m\u001B[38;5;124m'\u001B[39m])),access_token)\n\u001B[0;32m      2\u001B[0m plot_bar_chart_with_trendline(calculate_average_median(biofood))\n\u001B[1;32m----> 3\u001B[0m biofood2023 \u001B[38;5;241m=\u001B[39m np\u001B[38;5;241m.\u001B[39marray(\u001B[43mgrade_list\u001B[49m(calculate_average_median(biofood)))\n\u001B[0;32m      4\u001B[0m \u001B[38;5;28mprint\u001B[39m(\u001B[38;5;124m\"\u001B[39m\u001B[38;5;124mvar:\u001B[39m\u001B[38;5;124m\"\u001B[39m , np\u001B[38;5;241m.\u001B[39mvar(grade2018))\n\u001B[0;32m      5\u001B[0m \u001B[38;5;28mprint\u001B[39m(\u001B[38;5;124m\"\u001B[39m\u001B[38;5;124mAverage:\u001B[39m\u001B[38;5;124m\"\u001B[39m,np\u001B[38;5;241m.\u001B[39maverage(grade2018))\n",
      "\u001B[1;31mNameError\u001B[0m: name 'grade_list' is not defined"
     ]
    },
    {
     "data": {
      "application/javascript": [
       "$(document).ready(\n",
       "    function() {\n",
       "        function appendUniqueDiv(){\n",
       "            // append a div with our uuid so we can check that it's already\n",
       "            // been sent and avoid duplicates on page reload\n",
       "            var notifiedDiv = document.createElement(\"div\")\n",
       "            notifiedDiv.id = \"7ab69f17-9e99-466b-9cfc-ffd7f2f11b78\"\n",
       "            element.append(notifiedDiv)\n",
       "        }\n",
       "\n",
       "        // only send notifications if the pageload is complete; this will\n",
       "        // help stop extra notifications when a saved notebook is loaded,\n",
       "        // which during testing gives us state \"interactive\", not \"complete\"\n",
       "        if (document.readyState === 'complete') {\n",
       "            // check for the div that signifies that the notification\n",
       "            // was already sent\n",
       "            if (document.getElementById(\"7ab69f17-9e99-466b-9cfc-ffd7f2f11b78\") === null) {\n",
       "                var notificationPayload = {\"requireInteraction\": false, \"icon\": \"/static/base/images/favicon.ico\", \"body\": \"Cell execution has finished!\"};\n",
       "                if (Notification.permission !== 'denied') {\n",
       "                    if (Notification.permission !== 'granted') { \n",
       "                        Notification.requestPermission(function (permission) {\n",
       "                            if(!('permission' in Notification)) {\n",
       "                                Notification.permission = permission\n",
       "                            }\n",
       "                        })\n",
       "                    }\n",
       "                    if (Notification.permission === 'granted') {\n",
       "                    var notification = new Notification(\"Jupyter Notebook\", notificationPayload)\n",
       "                    appendUniqueDiv()\n",
       "                    notification.onclick = function () {\n",
       "                        window.focus();\n",
       "                        this.close();\n",
       "                        };\n",
       "                    } \n",
       "                }     \n",
       "            }\n",
       "        }\n",
       "    }\n",
       ")\n"
      ],
      "text/plain": [
       "<IPython.core.display.Javascript object>"
      ]
     },
     "metadata": {},
     "output_type": "display_data"
    }
   ],
   "source": [
    "%%notify\n",
    "\n",
    "biofood = get_finals_statistics(find_6_digit_sequences(clean_string(catalogs['biofood_hova_2023'])),access_token)\n",
    "plot_bar_chart_with_trendline(calculate_average_median(biofood))\n"
   ]
  },
  {
   "cell_type": "code",
   "execution_count": 91,
   "id": "cb29c3b8-6eb6-4275-af87-b79c7a90c8d7",
   "metadata": {},
   "outputs": [
    {
     "name": "stdout",
     "output_type": "stream",
     "text": [
      "var: 33.08188858131488\n",
      "Average: 81.50235294117647\n"
     ]
    }
   ],
   "source": [
    "biofood2023 = np.array(grade_list(calculate_average_median(biofood)))\n",
    "print(\"var:\" , np.var(biofood2023))\n",
    "print(\"Average:\",np.average(biofood2023))"
   ]
  },
  {
   "cell_type": "markdown",
   "id": "59fceafd",
   "metadata": {},
   "source": [
    "WOW! we can see it does gets better in the degree's later years"
   ]
  },
  {
   "cell_type": "code",
   "execution_count": 72,
   "id": "a745886e",
   "metadata": {},
   "outputs": [],
   "source": [
    "main2018 = calculate_average_median(hova2018)\n",
    "main2019 = calculate_average_median(hova2019)\n",
    "main2020 = calculate_average_median(hova2020)\n",
    "main2021 = calculate_average_median(hova2021)\n",
    "main2022 = calculate_average_median(hova2022)\n",
    "main2023 = calculate_average_median(hova2023)"
   ]
  },
  {
   "cell_type": "code",
   "execution_count": 88,
   "id": "ea8f6b30",
   "metadata": {},
   "outputs": [
    {
     "ename": "NameError",
     "evalue": "name 'main2018' is not defined",
     "output_type": "error",
     "traceback": [
      "\u001B[1;31m---------------------------------------------------------------------------\u001B[0m",
      "\u001B[1;31mNameError\u001B[0m                                 Traceback (most recent call last)",
      "Cell \u001B[1;32mIn[88], line 10\u001B[0m\n\u001B[0;32m      7\u001B[0m             gradelst\u001B[38;5;241m.\u001B[39mappend(i)\n\u001B[0;32m      8\u001B[0m     \u001B[38;5;28;01mreturn\u001B[39;00m gradelst\n\u001B[1;32m---> 10\u001B[0m grade2018 \u001B[38;5;241m=\u001B[39m np\u001B[38;5;241m.\u001B[39marray(grade_list(\u001B[43mmain2018\u001B[49m))\n\u001B[0;32m     11\u001B[0m grade2019 \u001B[38;5;241m=\u001B[39m np\u001B[38;5;241m.\u001B[39marray(grade_list(main2019))\n\u001B[0;32m     12\u001B[0m grade2020 \u001B[38;5;241m=\u001B[39m np\u001B[38;5;241m.\u001B[39marray(grade_list(main2020))\n",
      "\u001B[1;31mNameError\u001B[0m: name 'main2018' is not defined"
     ]
    }
   ],
   "source": [
    "def grade_list(dic):\n",
    "    gradelst = []\n",
    "    for i in dic.values():\n",
    "        if i == None:\n",
    "            continue\n",
    "        else:\n",
    "            gradelst.append(i)\n",
    "    return gradelst\n",
    "\n",
    "grade2018 = np.array(grade_list(main2018))\n",
    "grade2019 = np.array(grade_list(main2019))\n",
    "grade2020 = np.array(grade_list(main2020))\n",
    "grade2021 = np.array(grade_list(main2021))\n",
    "grade2022 = np.array(grade_list(main2022))\n",
    "grade2023 = np.array(grade_list(main2023))\n",
    "\n",
    "print(np.var(grade2018))\n",
    "print(np.average(grade2018))"
   ]
  },
  {
   "cell_type": "code",
   "execution_count": 74,
   "id": "e10a4550",
   "metadata": {},
   "outputs": [
    {
     "name": "stdout",
     "output_type": "stream",
     "text": [
      "2019 Variance is: f{np.var(grade2019)}\n"
     ]
    },
    {
     "ename": "NameError",
     "evalue": "name 'grade2019' is not defined",
     "output_type": "error",
     "traceback": [
      "\u001B[1;31m---------------------------------------------------------------------------\u001B[0m",
      "\u001B[1;31mNameError\u001B[0m                                 Traceback (most recent call last)",
      "Cell \u001B[1;32mIn[74], line 2\u001B[0m\n\u001B[0;32m      1\u001B[0m \u001B[38;5;28mprint\u001B[39m(\u001B[38;5;124m\"\u001B[39m\u001B[38;5;124m2019 Variance is: f\u001B[39m\u001B[38;5;124m{\u001B[39m\u001B[38;5;124mnp.var(grade2019)}\u001B[39m\u001B[38;5;124m\"\u001B[39m)\n\u001B[1;32m----> 2\u001B[0m \u001B[38;5;28mprint\u001B[39m(np\u001B[38;5;241m.\u001B[39maverage(\u001B[43mgrade2019\u001B[49m))\n",
      "\u001B[1;31mNameError\u001B[0m: name 'grade2019' is not defined"
     ]
    }
   ],
   "source": [
    "print(\"2019 np.var(grade2019))\n",
    "print(np.average(grade2019))"
   ]
  },
  {
   "cell_type": "code",
   "execution_count": 89,
   "id": "4ca1fd1f",
   "metadata": {},
   "outputs": [
    {
     "name": "stdout",
     "output_type": "stream",
     "text": [
      "44.58588297172912\n",
      "82.76205128205127\n"
     ]
    }
   ],
   "source": [
    "print(np.var(grade2020))\n",
    "print(np.average(grade2020))"
   ]
  },
  {
   "cell_type": "code",
   "execution_count": 90,
   "id": "a7c4edb4",
   "metadata": {},
   "outputs": [
    {
     "name": "stdout",
     "output_type": "stream",
     "text": [
      "43.090539944903576\n",
      "82.04545454545455\n"
     ]
    }
   ],
   "source": [
    "print(np.var(grade2021))\n",
    "print(np.average(grade2021))"
   ]
  },
  {
   "cell_type": "code",
   "execution_count": 91,
   "id": "2a3bfa48",
   "metadata": {},
   "outputs": [
    {
     "name": "stdout",
     "output_type": "stream",
     "text": [
      "46.98364444444444\n",
      "82.70333333333332\n"
     ]
    }
   ],
   "source": [
    "print(np.var(grade2022))\n",
    "print(np.average(grade2022))"
   ]
  },
  {
   "cell_type": "code",
   "execution_count": 92,
   "id": "9cf52755",
   "metadata": {},
   "outputs": [
    {
     "name": "stdout",
     "output_type": "stream",
     "text": [
      "43.40518367346938\n",
      "82.95857142857142\n"
     ]
    }
   ],
   "source": [
    "print(np.var(grade2023))\n",
    "print(np.average(grade2023))"
   ]
  },
  {
   "cell_type": "markdown",
   "id": "a514d379",
   "metadata": {},
   "source": [
    "We can't conclude much from that stats, but we can debate about that :)"
   ]
  },
  {
   "cell_type": "code",
   "execution_count": null,
   "id": "95dd3377",
   "metadata": {},
   "outputs": [],
   "source": []
  },
  {
   "cell_type": "markdown",
   "id": "113676f4",
   "metadata": {},
   "source": [
    "now i'm gonna find out which course had an exam that no one could ace"
   ]
  },
  {
   "cell_type": "code",
   "execution_count": 108,
   "id": "21d1b5cc-2ec8-4aff-addc-20616297a3b7",
   "metadata": {},
   "outputs": [
    {
     "name": "stderr",
     "output_type": "stream",
     "text": [
      "100%|████████████████████████████████████████████████████████████████████████████████| 33/33 [08:12<00:00, 14.92s/it]\n"
     ]
    },
    {
     "data": {
      "application/javascript": [
       "$(document).ready(\n",
       "    function() {\n",
       "        function appendUniqueDiv(){\n",
       "            // append a div with our uuid so we can check that it's already\n",
       "            // been sent and avoid duplicates on page reload\n",
       "            var notifiedDiv = document.createElement(\"div\")\n",
       "            notifiedDiv.id = \"550cc4fa-be7e-4943-84a5-9aacb8a7aef7\"\n",
       "            element.append(notifiedDiv)\n",
       "        }\n",
       "\n",
       "        // only send notifications if the pageload is complete; this will\n",
       "        // help stop extra notifications when a saved notebook is loaded,\n",
       "        // which during testing gives us state \"interactive\", not \"complete\"\n",
       "        if (document.readyState === 'complete') {\n",
       "            // check for the div that signifies that the notification\n",
       "            // was already sent\n",
       "            if (document.getElementById(\"550cc4fa-be7e-4943-84a5-9aacb8a7aef7\") === null) {\n",
       "                var notificationPayload = {\"requireInteraction\": false, \"icon\": \"/static/base/images/favicon.ico\", \"body\": \"Cell execution has finished!\"};\n",
       "                if (Notification.permission !== 'denied') {\n",
       "                    if (Notification.permission !== 'granted') { \n",
       "                        Notification.requestPermission(function (permission) {\n",
       "                            if(!('permission' in Notification)) {\n",
       "                                Notification.permission = permission\n",
       "                            }\n",
       "                        })\n",
       "                    }\n",
       "                    if (Notification.permission === 'granted') {\n",
       "                    var notification = new Notification(\"Jupyter Notebook\", notificationPayload)\n",
       "                    appendUniqueDiv()\n",
       "                    notification.onclick = function () {\n",
       "                        window.focus();\n",
       "                        this.close();\n",
       "                        };\n",
       "                    } \n",
       "                }     \n",
       "            }\n",
       "        }\n",
       "    }\n",
       ")\n"
      ],
      "text/plain": [
       "<IPython.core.display.Javascript object>"
      ]
     },
     "metadata": {},
     "output_type": "display_data"
    }
   ],
   "source": [
    "%%notify\n",
    "\n",
    "def get_max_statistics(course_numbers, access_token):\n",
    "    \"\"\"\n",
    "    Fetches the maximum grade statistics for the given course numbers from GitHub,\n",
    "    considering \"Exam_A.json\" and \"Exam_B.json\", excluding grades of 100.\n",
    "\n",
    "    Args:\n",
    "        course_numbers (list of str): List of course numbers to fetch statistics for.\n",
    "        access_token (str): GitHub access token for authentication.\n",
    "\n",
    "    Returns:\n",
    "        dict: A dictionary containing the maximum grade statistics for each course.\n",
    "    \"\"\"\n",
    "    statistics = {}\n",
    "    base_url = \"https://api.github.com/repos/michael-maltsev/technion-histograms/contents/\"\n",
    "    headers = {'Authorization': f'token {access_token}'}\n",
    "\n",
    "    for course_number in tqdm(course_numbers):\n",
    "        course_url = f\"{base_url}{course_number}?ref=main\"\n",
    "        try:\n",
    "            response = requests.get(course_url, headers=headers)\n",
    "            response.raise_for_status()\n",
    "            folders = response.json()\n",
    "\n",
    "            course_statistics = {\"Exam_A\": {}, \"Exam_B\": {}}\n",
    "            for folder in folders:\n",
    "                if folder['type'] == 'dir':\n",
    "                    folder_name = folder['name']\n",
    "                    for exam in [\"Exam_A.json\", \"Exam_B.json\"]:\n",
    "                        exam_key = exam.split('.')[0]  # Either \"Exam_A\" or \"Exam_B\"\n",
    "                        exam_url =f\"https://raw.githubusercontent.com/michael-maltsev/technion-histograms/main/{course_number}/{folder_name}/{exam}\"\n",
    "                        response = requests.get(exam_url, headers=headers)\n",
    "                        if response.status_code == 200:\n",
    "                            exam_data = response.json()\n",
    "                            max_grade = exam_data.get(\"max\")\n",
    "                            if max_grade and max_grade != 100:\n",
    "                                if folder_name not in course_statistics[exam_key]:\n",
    "                                    course_statistics[exam_key][folder_name] = max_grade\n",
    "                                else:\n",
    "                                    course_statistics[exam_key][folder_name] = max(max_grade, course_statistics[exam_key][folder_name])\n",
    "            statistics[course_number] = course_statistics\n",
    "        except requests.exceptions.RequestException as e:\n",
    "            print(f\"Error fetching data for course {course_number}: {e}\")\n",
    "    sleep(0.2)\n",
    "    return statistics\n",
    "\n",
    "\n"
   ]
  },
  {
   "cell_type": "code",
   "execution_count": 137,
   "id": "f7eea8cd-5d0f-4750-aa80-c5cfb0d9e83e",
   "metadata": {
    "editable": true,
    "scrolled": true,
    "slideshow": {
     "slide_type": ""
    },
    "tags": []
   },
   "outputs": [
    {
     "name": "stderr",
     "output_type": "stream",
     "text": [
      " 79%|███████████████████████████████████████████████████████████████▎                | 34/43 [08:53<01:05,  7.24s/it]"
     ]
    },
    {
     "name": "stdout",
     "output_type": "stream",
     "text": [
      "Error fetching data for course 034057: 404 Client Error: Not Found for url: https://api.github.com/repos/michael-maltsev/technion-histograms/contents/034057?ref=main\n"
     ]
    },
    {
     "name": "stderr",
     "output_type": "stream",
     "text": [
      " 91%|████████████████████████████████████████████████████████████████████████▌       | 39/43 [09:22<00:19,  4.93s/it]"
     ]
    },
    {
     "name": "stdout",
     "output_type": "stream",
     "text": [
      "Error fetching data for course 034382: 404 Client Error: Not Found for url: https://api.github.com/repos/michael-maltsev/technion-histograms/contents/034382?ref=main\n"
     ]
    },
    {
     "name": "stderr",
     "output_type": "stream",
     "text": [
      "100%|████████████████████████████████████████████████████████████████████████████████| 43/43 [09:39<00:00, 13.47s/it]\n"
     ]
    },
    {
     "data": {
      "application/javascript": [
       "$(document).ready(\n",
       "    function() {\n",
       "        function appendUniqueDiv(){\n",
       "            // append a div with our uuid so we can check that it's already\n",
       "            // been sent and avoid duplicates on page reload\n",
       "            var notifiedDiv = document.createElement(\"div\")\n",
       "            notifiedDiv.id = \"4b093584-e046-4ee3-bad3-c880c41a55f7\"\n",
       "            element.append(notifiedDiv)\n",
       "        }\n",
       "\n",
       "        // only send notifications if the pageload is complete; this will\n",
       "        // help stop extra notifications when a saved notebook is loaded,\n",
       "        // which during testing gives us state \"interactive\", not \"complete\"\n",
       "        if (document.readyState === 'complete') {\n",
       "            // check for the div that signifies that the notification\n",
       "            // was already sent\n",
       "            if (document.getElementById(\"4b093584-e046-4ee3-bad3-c880c41a55f7\") === null) {\n",
       "                var notificationPayload = {\"requireInteraction\": false, \"icon\": \"/static/base/images/favicon.ico\", \"body\": \"Cell execution has finished!\"};\n",
       "                if (Notification.permission !== 'denied') {\n",
       "                    if (Notification.permission !== 'granted') { \n",
       "                        Notification.requestPermission(function (permission) {\n",
       "                            if(!('permission' in Notification)) {\n",
       "                                Notification.permission = permission\n",
       "                            }\n",
       "                        })\n",
       "                    }\n",
       "                    if (Notification.permission === 'granted') {\n",
       "                    var notification = new Notification(\"Jupyter Notebook\", notificationPayload)\n",
       "                    appendUniqueDiv()\n",
       "                    notification.onclick = function () {\n",
       "                        window.focus();\n",
       "                        this.close();\n",
       "                        };\n",
       "                    } \n",
       "                }     \n",
       "            }\n",
       "        }\n",
       "    }\n",
       ")\n"
      ],
      "text/plain": [
       "<IPython.core.display.Javascript object>"
      ]
     },
     "metadata": {},
     "output_type": "display_data"
    }
   ],
   "source": [
    "%%notify\n",
    "write_max_statistics_to_csv(get_max_statistics(find_6_digit_sequences(clean_string(catalog['mechonot'])), access_token), \"MechMax.csv\")"
   ]
  },
  {
   "cell_type": "code",
   "execution_count": 128,
   "id": "3a343a8d-748d-4711-b55e-dcf05a314b6e",
   "metadata": {},
   "outputs": [
    {
     "name": "stdout",
     "output_type": "stream",
     "text": [
      "Max statistics have been written to max_statistics.csv\n"
     ]
    }
   ],
   "source": [
    "import csv\n",
    "\n",
    "def write_max_statistics_to_csv(statistics, filename):\n",
    "    \"\"\"\n",
    "    Writes the maximum grade statistics to a CSV file.\n",
    "\n",
    "    Args:\n",
    "        statistics (dict): A dictionary containing the maximum grade statistics for each course.\n",
    "        filename (str): The name of the CSV file to be created.\n",
    "    \"\"\"\n",
    "    with open(filename, mode='w', newline='') as file:\n",
    "        writer = csv.writer(file)\n",
    "        writer.writerow([\"Course Number\", \"Folder\", \"Exam\", \"Max Grade\"])\n",
    "\n",
    "        for course_number, exams in statistics.items():\n",
    "            # Get all unique folders\n",
    "            all_folders = set()\n",
    "            for exam_key, folders in exams.items():\n",
    "                all_folders.update(folders.keys())\n",
    "            \n",
    "            # Write data for each folder\n",
    "            for folder_name in all_folders:\n",
    "                for exam_key in ['Exam_A', 'Exam_B']:\n",
    "                    if exam_key in exams and folder_name in exams[exam_key]:\n",
    "                        max_grade = exams[exam_key][folder_name]\n",
    "                        writer.writerow([course_number, folder_name, exam_key, max_grade])"
   ]
  },
  {
   "cell_type": "code",
   "execution_count": 134,
   "id": "3d6eafe1-55a1-4e81-ad3a-77cc16c36ea5",
   "metadata": {
    "editable": true,
    "slideshow": {
     "slide_type": ""
    },
    "tags": []
   },
   "outputs": [],
   "source": [
    "write_max_statistics_to_csv(max2021, 'max2021.csv')"
   ]
  },
  {
   "cell_type": "code",
   "execution_count": null,
   "id": "24b070f2-1d8d-4563-b90b-e0d29156bc70",
   "metadata": {},
   "outputs": [],
   "source": []
  },
  {
   "cell_type": "code",
   "execution_count": null,
   "id": "19040386-5131-48f1-b37e-d8ce5db960d9",
   "metadata": {},
   "outputs": [],
   "source": []
  }
 ],
 "metadata": {
  "kernelspec": {
   "display_name": "Python 3 (ipykernel)",
   "language": "python",
   "name": "python3"
  },
  "language_info": {
   "codemirror_mode": {
    "name": "ipython",
    "version": 3
   },
   "file_extension": ".py",
   "mimetype": "text/x-python",
   "name": "python",
   "nbconvert_exporter": "python",
   "pygments_lexer": "ipython3",
   "version": "3.10.14"
  }
 },
 "nbformat": 4,
 "nbformat_minor": 5
}
